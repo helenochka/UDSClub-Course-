{
 "cells": [
  {
   "cell_type": "markdown",
   "metadata": {},
   "source": [
    "# Homework 2 - TF-IDF Classifier\n",
    "\n",
    "Ваша цель обучить классификатор который будет находить \"токсичные\" комментарии и опубликовать решения на Kaggle [Toxic Comment Classification Challenge](https://www.kaggle.com/c/jigsaw-toxic-comment-classification-challenge)\n",
    "\n",
    "В процессе обучения нужно ответить на ***[вопросы](https://docs.google.com/forms/d/e/1FAIpQLSd9mQx8EFpSH6FhCy1M_FmISzy3lhgyyqV3TN0pmtop7slmTA/viewform?usp=sf_link)***\n",
    "\n",
    "Данные можно скачать тут - https://www.kaggle.com/c/jigsaw-toxic-comment-classification-challenge/data\n",
    "\n"
   ]
  },
  {
   "cell_type": "code",
   "execution_count": 194,
   "metadata": {},
   "outputs": [
    {
     "data": {
      "text/html": [
       "<script>requirejs.config({paths: { 'plotly': ['https://cdn.plot.ly/plotly-latest.min']},});if(!window.Plotly) {{require(['plotly'],function(plotly) {window.Plotly=plotly;});}}</script>"
      ],
      "text/vnd.plotly.v1+html": [
       "<script>requirejs.config({paths: { 'plotly': ['https://cdn.plot.ly/plotly-latest.min']},});if(!window.Plotly) {{require(['plotly'],function(plotly) {window.Plotly=plotly;});}}</script>"
      ]
     },
     "metadata": {},
     "output_type": "display_data"
    }
   ],
   "source": [
    "import seaborn as sns \n",
    "% matplotlib inline\n",
    "import matplotlib.pyplot as plt\n",
    "import numpy as np\n",
    "import pandas as pd\n",
    "from plotly.offline import download_plotlyjs, init_notebook_mode, plot, iplot\n",
    "import plotly\n",
    "import plotly.graph_objs as go\n",
    "init_notebook_mode(connected=True)\n",
    "\n",
    "from sklearn.feature_extraction.text import TfidfVectorizer, CountVectorizer\n",
    "from sklearn.linear_model import LogisticRegression\n",
    "from sklearn.model_selection import cross_val_score, GridSearchCV\n",
    "from scipy.sparse import hstack, csr_matrix\n",
    "from sklearn.pipeline import Pipeline, FeatureUnion\n",
    "\n",
    "from gensim.utils import tokenize"
   ]
  },
  {
   "cell_type": "code",
   "execution_count": 3,
   "metadata": {
    "collapsed": true
   },
   "outputs": [],
   "source": [
    "class_names = ['toxic', 'severe_toxic', 'obscene', 'threat', 'insult', 'identity_hate']\n",
    "\n",
    "train = pd.read_csv('../data/kaggle_comments/train.csv').fillna(' ')\n",
    "test = pd.read_csv('../data/kaggle_comments/test.csv').fillna(' ')\n",
    "\n",
    "train_text = train['comment_text']\n",
    "test_text = test['comment_text']\n",
    "all_text = pd.concat([train_text, test_text])"
   ]
  },
  {
   "cell_type": "code",
   "execution_count": 186,
   "metadata": {},
   "outputs": [
    {
     "data": {
      "text/html": [
       "<div>\n",
       "<style>\n",
       "    .dataframe thead tr:only-child th {\n",
       "        text-align: right;\n",
       "    }\n",
       "\n",
       "    .dataframe thead th {\n",
       "        text-align: left;\n",
       "    }\n",
       "\n",
       "    .dataframe tbody tr th {\n",
       "        vertical-align: top;\n",
       "    }\n",
       "</style>\n",
       "<table border=\"1\" class=\"dataframe\">\n",
       "  <thead>\n",
       "    <tr style=\"text-align: right;\">\n",
       "      <th></th>\n",
       "      <th>id</th>\n",
       "      <th>comment_text</th>\n",
       "      <th>toxic</th>\n",
       "      <th>severe_toxic</th>\n",
       "      <th>obscene</th>\n",
       "      <th>threat</th>\n",
       "      <th>insult</th>\n",
       "      <th>identity_hate</th>\n",
       "      <th>lemmitized_text</th>\n",
       "    </tr>\n",
       "  </thead>\n",
       "  <tbody>\n",
       "    <tr>\n",
       "      <th>85673</th>\n",
       "      <td>e5246e17d6cd5d99</td>\n",
       "      <td>you in no way justified your deletion of my ed...</td>\n",
       "      <td>0</td>\n",
       "      <td>0</td>\n",
       "      <td>0</td>\n",
       "      <td>0</td>\n",
       "      <td>0</td>\n",
       "      <td>0</td>\n",
       "      <td>You in no way justified your deletion of my ed...</td>\n",
       "    </tr>\n",
       "    <tr>\n",
       "      <th>76240</th>\n",
       "      <td>cc16f3fc2c3b04da</td>\n",
       "      <td>\\n keep, 20 february 2013,   wikipedia artic...</td>\n",
       "      <td>0</td>\n",
       "      <td>0</td>\n",
       "      <td>0</td>\n",
       "      <td>0</td>\n",
       "      <td>0</td>\n",
       "      <td>0</td>\n",
       "      <td>] ] Keep , 20 February 2013 , [ [ Wikipedia : ...</td>\n",
       "    </tr>\n",
       "    <tr>\n",
       "      <th>117844</th>\n",
       "      <td>7583424f302d07cc</td>\n",
       "      <td>\"\\n\\ntalkback\\n\\n bark dig \"</td>\n",
       "      <td>0</td>\n",
       "      <td>0</td>\n",
       "      <td>0</td>\n",
       "      <td>0</td>\n",
       "      <td>0</td>\n",
       "      <td>0</td>\n",
       "      <td>`` Talkback bark dig ``</td>\n",
       "    </tr>\n",
       "    <tr>\n",
       "      <th>76270</th>\n",
       "      <td>cc29653c7e821b44</td>\n",
       "      <td>\"\\n\\n belongs in \"\"category crocodiles\"\"  some...</td>\n",
       "      <td>0</td>\n",
       "      <td>0</td>\n",
       "      <td>0</td>\n",
       "      <td>0</td>\n",
       "      <td>0</td>\n",
       "      <td>0</td>\n",
       "      <td>`` Belongs in `` '' Category : Crocodiles '' '...</td>\n",
       "    </tr>\n",
       "  </tbody>\n",
       "</table>\n",
       "</div>"
      ],
      "text/plain": [
       "                      id                                       comment_text  \\\n",
       "85673   e5246e17d6cd5d99  you in no way justified your deletion of my ed...   \n",
       "76240   cc16f3fc2c3b04da    \\n keep, 20 february 2013,   wikipedia artic...   \n",
       "117844  7583424f302d07cc                       \"\\n\\ntalkback\\n\\n bark dig \"   \n",
       "76270   cc29653c7e821b44  \"\\n\\n belongs in \"\"category crocodiles\"\"  some...   \n",
       "\n",
       "        toxic  severe_toxic  obscene  threat  insult  identity_hate  \\\n",
       "85673       0             0        0       0       0              0   \n",
       "76240       0             0        0       0       0              0   \n",
       "117844      0             0        0       0       0              0   \n",
       "76270       0             0        0       0       0              0   \n",
       "\n",
       "                                          lemmitized_text  \n",
       "85673   You in no way justified your deletion of my ed...  \n",
       "76240   ] ] Keep , 20 February 2013 , [ [ Wikipedia : ...  \n",
       "117844                            `` Talkback bark dig ``  \n",
       "76270   `` Belongs in `` '' Category : Crocodiles '' '...  "
      ]
     },
     "execution_count": 186,
     "metadata": {},
     "output_type": "execute_result"
    }
   ],
   "source": [
    "train.sample(4)"
   ]
  },
  {
   "cell_type": "markdown",
   "metadata": {},
   "source": [
    "Стадартными подходами для анализа текста являются [Bag of words](https://en.wikipedia.org/wiki/Bag-of-words_model) и его модификация [TF-IDF](https://en.wikipedia.org/wiki/Tf%E2%80%93idf).\n",
    "\n",
    "Они реалзованны в `sklearn` в виде [CountVectorizer](http://scikit-learn.org/stable/modules/generated/sklearn.feature_extraction.text.CountVectorizer.html) и [TfidfVectorizer](http://scikit-learn.org/stable/modules/generated/sklearn.feature_extraction.text.TfidfVectorizer.html).\n",
    "\n",
    "Более подробней про них можно посмотреть [тут](https://github.com/udsclub/workshop/blob/master/notebooks/UDS-workshop-feature-extraction-and-engineering.ipynb)"
   ]
  },
  {
   "cell_type": "markdown",
   "metadata": {},
   "source": [
    "#### 1. Какое слово встречается чаще всего в объединенном train и test датасете?  "
   ]
  },
  {
   "cell_type": "code",
   "execution_count": 127,
   "metadata": {
    "collapsed": true
   },
   "outputs": [],
   "source": [
    "def plot_top_words(all_text, tag='',  n=15) : \n",
    "    counter = CountVectorizer(analyzer='word')\n",
    "    all_words = counter.fit_transform(all_text)\n",
    "    frequency = list(np.array(all_words.sum(axis=0)).reshape(-1, ))\n",
    "    word2frequency = dict(zip(counter.get_feature_names(), frequency )) \n",
    "    \n",
    "    top_n_words = sorted(word2frequency.items(), key=operator.itemgetter(1))[-n:]\n",
    "    total_number_of_words = sum(word2frequency.values())\n",
    "    words = [w for (w, f) in top_n_words]\n",
    "    freqs = [f for (w, f) in top_n_words]\n",
    "    \n",
    "    trace = go.Bar( x=words, y=freqs  )   \n",
    "    layout = {'title': f\"Top {n} most common occured words in {tag} (total={total_number_of_words})\"}\n",
    "    iplot(go.Figure(data=[trace], layout=layout), show_link=False)"
   ]
  },
  {
   "cell_type": "code",
   "execution_count": 110,
   "metadata": {},
   "outputs": [
    {
     "data": {
      "application/vnd.plotly.v1+json": {
       "data": [
        {
         "type": "bar",
         "x": [
          "wikipedia",
          "but",
          "or",
          "was",
          "article",
          "if",
          "with",
          "your",
          "have",
          "are",
          "as",
          "be",
          "on",
          "not",
          "this",
          "for",
          "in",
          "it",
          "that",
          "is",
          "you",
          "and",
          "of",
          "to",
          "the"
         ],
         "y": [
          83699,
          95663,
          96920,
          99502,
          105723,
          106528,
          109327,
          111992,
          128050,
          132443,
          140599,
          153161,
          161442,
          168652,
          181170,
          185546,
          269288,
          277771,
          295455,
          333930,
          393819,
          408809,
          409932,
          538918,
          918456
         ]
        }
       ],
       "layout": {
        "title": "Top 25 most common occured words (total=19279833)"
       }
      },
      "text/html": [
       "<div id=\"fd923113-0dc0-4ceb-93cb-c3171f92e07f\" style=\"height: 525px; width: 100%;\" class=\"plotly-graph-div\"></div><script type=\"text/javascript\">require([\"plotly\"], function(Plotly) { window.PLOTLYENV=window.PLOTLYENV || {};window.PLOTLYENV.BASE_URL=\"https://plot.ly\";Plotly.newPlot(\"fd923113-0dc0-4ceb-93cb-c3171f92e07f\", [{\"type\": \"bar\", \"x\": [\"wikipedia\", \"but\", \"or\", \"was\", \"article\", \"if\", \"with\", \"your\", \"have\", \"are\", \"as\", \"be\", \"on\", \"not\", \"this\", \"for\", \"in\", \"it\", \"that\", \"is\", \"you\", \"and\", \"of\", \"to\", \"the\"], \"y\": [83699, 95663, 96920, 99502, 105723, 106528, 109327, 111992, 128050, 132443, 140599, 153161, 161442, 168652, 181170, 185546, 269288, 277771, 295455, 333930, 393819, 408809, 409932, 538918, 918456]}], {\"title\": \"Top 25 most common occured words (total=19279833)\"}, {\"showLink\": false, \"linkText\": \"Export to plot.ly\"})});</script>"
      ],
      "text/vnd.plotly.v1+html": [
       "<div id=\"fd923113-0dc0-4ceb-93cb-c3171f92e07f\" style=\"height: 525px; width: 100%;\" class=\"plotly-graph-div\"></div><script type=\"text/javascript\">require([\"plotly\"], function(Plotly) { window.PLOTLYENV=window.PLOTLYENV || {};window.PLOTLYENV.BASE_URL=\"https://plot.ly\";Plotly.newPlot(\"fd923113-0dc0-4ceb-93cb-c3171f92e07f\", [{\"type\": \"bar\", \"x\": [\"wikipedia\", \"but\", \"or\", \"was\", \"article\", \"if\", \"with\", \"your\", \"have\", \"are\", \"as\", \"be\", \"on\", \"not\", \"this\", \"for\", \"in\", \"it\", \"that\", \"is\", \"you\", \"and\", \"of\", \"to\", \"the\"], \"y\": [83699, 95663, 96920, 99502, 105723, 106528, 109327, 111992, 128050, 132443, 140599, 153161, 161442, 168652, 181170, 185546, 269288, 277771, 295455, 333930, 393819, 408809, 409932, 538918, 918456]}], {\"title\": \"Top 25 most common occured words (total=19279833)\"}, {\"showLink\": false, \"linkText\": \"Export to plot.ly\"})});</script>"
      ]
     },
     "metadata": {},
     "output_type": "display_data"
    }
   ],
   "source": [
    "plot_top_words(all_text, n=25)"
   ]
  },
  {
   "cell_type": "markdown",
   "metadata": {},
   "source": [
    "    the"
   ]
  },
  {
   "cell_type": "code",
   "execution_count": 136,
   "metadata": {},
   "outputs": [
    {
     "data": {
      "application/vnd.plotly.v1+json": {
       "data": [
        {
         "type": "bar",
         "x": [
          "like",
          "be",
          "shit",
          "wikipedia",
          "with",
          "do",
          "have",
          "for",
          "not",
          "on",
          "this",
          "me",
          "my",
          "in",
          "are",
          "it",
          "that",
          "your",
          "fuck",
          "of",
          "is",
          "to",
          "and",
          "the",
          "you"
         ],
         "y": [
          3512,
          3585,
          3622,
          3678,
          3931,
          4014,
          4615,
          4721,
          4834,
          4886,
          5497,
          5541,
          6184,
          6709,
          8171,
          8197,
          8238,
          9145,
          9934,
          11425,
          12644,
          15685,
          15772,
          20531,
          38553
         ]
        }
       ],
       "layout": {
        "title": "Top 25 most common occured words in toxic (total=751180)"
       }
      },
      "text/html": [
       "<div id=\"36f8a517-8e3c-4b70-bbe8-35f3a481e5d3\" style=\"height: 525px; width: 100%;\" class=\"plotly-graph-div\"></div><script type=\"text/javascript\">require([\"plotly\"], function(Plotly) { window.PLOTLYENV=window.PLOTLYENV || {};window.PLOTLYENV.BASE_URL=\"https://plot.ly\";Plotly.newPlot(\"36f8a517-8e3c-4b70-bbe8-35f3a481e5d3\", [{\"type\": \"bar\", \"x\": [\"like\", \"be\", \"shit\", \"wikipedia\", \"with\", \"do\", \"have\", \"for\", \"not\", \"on\", \"this\", \"me\", \"my\", \"in\", \"are\", \"it\", \"that\", \"your\", \"fuck\", \"of\", \"is\", \"to\", \"and\", \"the\", \"you\"], \"y\": [3512, 3585, 3622, 3678, 3931, 4014, 4615, 4721, 4834, 4886, 5497, 5541, 6184, 6709, 8171, 8197, 8238, 9145, 9934, 11425, 12644, 15685, 15772, 20531, 38553]}], {\"title\": \"Top 25 most common occured words in toxic (total=751180)\"}, {\"showLink\": false, \"linkText\": \"Export to plot.ly\"})});</script>"
      ],
      "text/vnd.plotly.v1+html": [
       "<div id=\"36f8a517-8e3c-4b70-bbe8-35f3a481e5d3\" style=\"height: 525px; width: 100%;\" class=\"plotly-graph-div\"></div><script type=\"text/javascript\">require([\"plotly\"], function(Plotly) { window.PLOTLYENV=window.PLOTLYENV || {};window.PLOTLYENV.BASE_URL=\"https://plot.ly\";Plotly.newPlot(\"36f8a517-8e3c-4b70-bbe8-35f3a481e5d3\", [{\"type\": \"bar\", \"x\": [\"like\", \"be\", \"shit\", \"wikipedia\", \"with\", \"do\", \"have\", \"for\", \"not\", \"on\", \"this\", \"me\", \"my\", \"in\", \"are\", \"it\", \"that\", \"your\", \"fuck\", \"of\", \"is\", \"to\", \"and\", \"the\", \"you\"], \"y\": [3512, 3585, 3622, 3678, 3931, 4014, 4615, 4721, 4834, 4886, 5497, 5541, 6184, 6709, 8171, 8197, 8238, 9145, 9934, 11425, 12644, 15685, 15772, 20531, 38553]}], {\"title\": \"Top 25 most common occured words in toxic (total=751180)\"}, {\"showLink\": false, \"linkText\": \"Export to plot.ly\"})});</script>"
      ]
     },
     "metadata": {},
     "output_type": "display_data"
    },
    {
     "data": {
      "application/vnd.plotly.v1+json": {
       "data": [
        {
         "type": "bar",
         "x": [
          "wikipedia",
          "cunt",
          "sucks",
          "me",
          "in",
          "nigger",
          "bitch",
          "die",
          "of",
          "to",
          "are",
          "yourself",
          "go",
          "my",
          "fucking",
          "and",
          "faggot",
          "is",
          "shit",
          "your",
          "ass",
          "the",
          "suck",
          "fuck",
          "you"
         ],
         "y": [
          773,
          833,
          961,
          987,
          992,
          1012,
          1113,
          1156,
          1157,
          1162,
          1211,
          1239,
          1240,
          1305,
          1456,
          1568,
          1571,
          1618,
          1884,
          2056,
          2114,
          2152,
          2535,
          7303,
          10390
         ]
        }
       ],
       "layout": {
        "title": "Top 25 most common occured words in severe_toxic (total=116692)"
       }
      },
      "text/html": [
       "<div id=\"f09987d0-27a8-4e1e-9032-c65a3a2d033a\" style=\"height: 525px; width: 100%;\" class=\"plotly-graph-div\"></div><script type=\"text/javascript\">require([\"plotly\"], function(Plotly) { window.PLOTLYENV=window.PLOTLYENV || {};window.PLOTLYENV.BASE_URL=\"https://plot.ly\";Plotly.newPlot(\"f09987d0-27a8-4e1e-9032-c65a3a2d033a\", [{\"type\": \"bar\", \"x\": [\"wikipedia\", \"cunt\", \"sucks\", \"me\", \"in\", \"nigger\", \"bitch\", \"die\", \"of\", \"to\", \"are\", \"yourself\", \"go\", \"my\", \"fucking\", \"and\", \"faggot\", \"is\", \"shit\", \"your\", \"ass\", \"the\", \"suck\", \"fuck\", \"you\"], \"y\": [773, 833, 961, 987, 992, 1012, 1113, 1156, 1157, 1162, 1211, 1239, 1240, 1305, 1456, 1568, 1571, 1618, 1884, 2056, 2114, 2152, 2535, 7303, 10390]}], {\"title\": \"Top 25 most common occured words in severe_toxic (total=116692)\"}, {\"showLink\": false, \"linkText\": \"Export to plot.ly\"})});</script>"
      ],
      "text/vnd.plotly.v1+html": [
       "<div id=\"f09987d0-27a8-4e1e-9032-c65a3a2d033a\" style=\"height: 525px; width: 100%;\" class=\"plotly-graph-div\"></div><script type=\"text/javascript\">require([\"plotly\"], function(Plotly) { window.PLOTLYENV=window.PLOTLYENV || {};window.PLOTLYENV.BASE_URL=\"https://plot.ly\";Plotly.newPlot(\"f09987d0-27a8-4e1e-9032-c65a3a2d033a\", [{\"type\": \"bar\", \"x\": [\"wikipedia\", \"cunt\", \"sucks\", \"me\", \"in\", \"nigger\", \"bitch\", \"die\", \"of\", \"to\", \"are\", \"yourself\", \"go\", \"my\", \"fucking\", \"and\", \"faggot\", \"is\", \"shit\", \"your\", \"ass\", \"the\", \"suck\", \"fuck\", \"you\"], \"y\": [773, 833, 961, 987, 992, 1012, 1113, 1156, 1157, 1162, 1211, 1239, 1240, 1305, 1456, 1568, 1571, 1618, 1884, 2056, 2114, 2152, 2535, 7303, 10390]}], {\"title\": \"Top 25 most common occured words in severe_toxic (total=116692)\"}, {\"showLink\": false, \"linkText\": \"Export to plot.ly\"})});</script>"
      ]
     },
     "metadata": {},
     "output_type": "display_data"
    },
    {
     "data": {
      "application/vnd.plotly.v1+json": {
       "data": [
        {
         "type": "bar",
         "x": [
          "not",
          "go",
          "have",
          "for",
          "on",
          "nigger",
          "ass",
          "me",
          "this",
          "suck",
          "fucking",
          "shit",
          "in",
          "my",
          "that",
          "are",
          "it",
          "your",
          "of",
          "is",
          "to",
          "and",
          "fuck",
          "the",
          "you"
         ],
         "y": [
          2109,
          2147,
          2231,
          2468,
          2509,
          2727,
          2846,
          2870,
          2969,
          3021,
          3192,
          3212,
          3533,
          3668,
          3946,
          4034,
          4268,
          5426,
          5453,
          5917,
          7373,
          8274,
          9860,
          10707,
          23509
         ]
        }
       ],
       "layout": {
        "title": "Top 25 most common occured words in obscene (total=403162)"
       }
      },
      "text/html": [
       "<div id=\"01af388a-15e0-4c38-b6b0-3503bb7b3170\" style=\"height: 525px; width: 100%;\" class=\"plotly-graph-div\"></div><script type=\"text/javascript\">require([\"plotly\"], function(Plotly) { window.PLOTLYENV=window.PLOTLYENV || {};window.PLOTLYENV.BASE_URL=\"https://plot.ly\";Plotly.newPlot(\"01af388a-15e0-4c38-b6b0-3503bb7b3170\", [{\"type\": \"bar\", \"x\": [\"not\", \"go\", \"have\", \"for\", \"on\", \"nigger\", \"ass\", \"me\", \"this\", \"suck\", \"fucking\", \"shit\", \"in\", \"my\", \"that\", \"are\", \"it\", \"your\", \"of\", \"is\", \"to\", \"and\", \"fuck\", \"the\", \"you\"], \"y\": [2109, 2147, 2231, 2468, 2509, 2727, 2846, 2870, 2969, 3021, 3192, 3212, 3533, 3668, 3946, 4034, 4268, 5426, 5453, 5917, 7373, 8274, 9860, 10707, 23509]}], {\"title\": \"Top 25 most common occured words in obscene (total=403162)\"}, {\"showLink\": false, \"linkText\": \"Export to plot.ly\"})});</script>"
      ],
      "text/vnd.plotly.v1+html": [
       "<div id=\"01af388a-15e0-4c38-b6b0-3503bb7b3170\" style=\"height: 525px; width: 100%;\" class=\"plotly-graph-div\"></div><script type=\"text/javascript\">require([\"plotly\"], function(Plotly) { window.PLOTLYENV=window.PLOTLYENV || {};window.PLOTLYENV.BASE_URL=\"https://plot.ly\";Plotly.newPlot(\"01af388a-15e0-4c38-b6b0-3503bb7b3170\", [{\"type\": \"bar\", \"x\": [\"not\", \"go\", \"have\", \"for\", \"on\", \"nigger\", \"ass\", \"me\", \"this\", \"suck\", \"fucking\", \"shit\", \"in\", \"my\", \"that\", \"are\", \"it\", \"your\", \"of\", \"is\", \"to\", \"and\", \"fuck\", \"the\", \"you\"], \"y\": [2109, 2147, 2231, 2468, 2509, 2727, 2846, 2870, 2969, 3021, 3192, 3212, 3533, 3668, 3946, 4034, 4268, 5426, 5453, 5917, 7373, 8274, 9860, 10707, 23509]}], {\"title\": \"Top 25 most common occured words in obscene (total=403162)\"}, {\"showLink\": false, \"linkText\": \"Export to plot.ly\"})});</script>"
      ]
     },
     "metadata": {},
     "output_type": "display_data"
    },
    {
     "data": {
      "application/vnd.plotly.v1+json": {
       "data": [
        {
         "type": "bar",
         "x": [
          "are",
          "supertr0ll",
          "that",
          "wales",
          "jim",
          "fuck",
          "must",
          "block",
          "in",
          "yourself",
          "wikipedia",
          "of",
          "it",
          "if",
          "am",
          "going",
          "the",
          "kill",
          "your",
          "and",
          "to",
          "ass",
          "will",
          "die",
          "you"
         ],
         "y": [
          140,
          151,
          152,
          157,
          158,
          166,
          167,
          170,
          190,
          193,
          200,
          232,
          233,
          269,
          273,
          294,
          445,
          504,
          506,
          601,
          645,
          772,
          840,
          1168,
          2033
         ]
        }
       ],
       "layout": {
        "title": "Top 25 most common occured words in threat (total=24451)"
       }
      },
      "text/html": [
       "<div id=\"66245f5e-fc4c-4b49-a5b6-beb529bd8deb\" style=\"height: 525px; width: 100%;\" class=\"plotly-graph-div\"></div><script type=\"text/javascript\">require([\"plotly\"], function(Plotly) { window.PLOTLYENV=window.PLOTLYENV || {};window.PLOTLYENV.BASE_URL=\"https://plot.ly\";Plotly.newPlot(\"66245f5e-fc4c-4b49-a5b6-beb529bd8deb\", [{\"type\": \"bar\", \"x\": [\"are\", \"supertr0ll\", \"that\", \"wales\", \"jim\", \"fuck\", \"must\", \"block\", \"in\", \"yourself\", \"wikipedia\", \"of\", \"it\", \"if\", \"am\", \"going\", \"the\", \"kill\", \"your\", \"and\", \"to\", \"ass\", \"will\", \"die\", \"you\"], \"y\": [140, 151, 152, 157, 158, 166, 167, 170, 190, 193, 200, 232, 233, 269, 273, 294, 445, 504, 506, 601, 645, 772, 840, 1168, 2033]}], {\"title\": \"Top 25 most common occured words in threat (total=24451)\"}, {\"showLink\": false, \"linkText\": \"Export to plot.ly\"})});</script>"
      ],
      "text/vnd.plotly.v1+html": [
       "<div id=\"66245f5e-fc4c-4b49-a5b6-beb529bd8deb\" style=\"height: 525px; width: 100%;\" class=\"plotly-graph-div\"></div><script type=\"text/javascript\">require([\"plotly\"], function(Plotly) { window.PLOTLYENV=window.PLOTLYENV || {};window.PLOTLYENV.BASE_URL=\"https://plot.ly\";Plotly.newPlot(\"66245f5e-fc4c-4b49-a5b6-beb529bd8deb\", [{\"type\": \"bar\", \"x\": [\"are\", \"supertr0ll\", \"that\", \"wales\", \"jim\", \"fuck\", \"must\", \"block\", \"in\", \"yourself\", \"wikipedia\", \"of\", \"it\", \"if\", \"am\", \"going\", \"the\", \"kill\", \"your\", \"and\", \"to\", \"ass\", \"will\", \"die\", \"you\"], \"y\": [140, 151, 152, 157, 158, 166, 167, 170, 190, 193, 200, 232, 233, 269, 273, 294, 445, 504, 506, 601, 645, 772, 840, 1168, 2033]}], {\"title\": \"Top 25 most common occured words in threat (total=24451)\"}, {\"showLink\": false, \"linkText\": \"Export to plot.ly\"})});</script>"
      ]
     },
     "metadata": {},
     "output_type": "display_data"
    },
    {
     "data": {
      "application/vnd.plotly.v1+json": {
       "data": [
        {
         "type": "bar",
         "x": [
          "do",
          "not",
          "fat",
          "for",
          "on",
          "ass",
          "go",
          "me",
          "this",
          "in",
          "nigger",
          "suck",
          "fucking",
          "my",
          "that",
          "it",
          "are",
          "of",
          "your",
          "is",
          "to",
          "and",
          "fuck",
          "the",
          "you"
         ],
         "y": [
          1889,
          1893,
          1926,
          2038,
          2193,
          2211,
          2235,
          2463,
          2521,
          2685,
          2781,
          2792,
          2799,
          3212,
          3453,
          3563,
          4666,
          5087,
          5517,
          6019,
          6400,
          7558,
          7925,
          8635,
          23907
         ]
        }
       ],
       "layout": {
        "title": "Top 25 most common occured words in insult (total=365306)"
       }
      },
      "text/html": [
       "<div id=\"35018789-e50a-4a2a-b894-3de45780793e\" style=\"height: 525px; width: 100%;\" class=\"plotly-graph-div\"></div><script type=\"text/javascript\">require([\"plotly\"], function(Plotly) { window.PLOTLYENV=window.PLOTLYENV || {};window.PLOTLYENV.BASE_URL=\"https://plot.ly\";Plotly.newPlot(\"35018789-e50a-4a2a-b894-3de45780793e\", [{\"type\": \"bar\", \"x\": [\"do\", \"not\", \"fat\", \"for\", \"on\", \"ass\", \"go\", \"me\", \"this\", \"in\", \"nigger\", \"suck\", \"fucking\", \"my\", \"that\", \"it\", \"are\", \"of\", \"your\", \"is\", \"to\", \"and\", \"fuck\", \"the\", \"you\"], \"y\": [1889, 1893, 1926, 2038, 2193, 2211, 2235, 2463, 2521, 2685, 2781, 2792, 2799, 3212, 3453, 3563, 4666, 5087, 5517, 6019, 6400, 7558, 7925, 8635, 23907]}], {\"title\": \"Top 25 most common occured words in insult (total=365306)\"}, {\"showLink\": false, \"linkText\": \"Export to plot.ly\"})});</script>"
      ],
      "text/vnd.plotly.v1+html": [
       "<div id=\"35018789-e50a-4a2a-b894-3de45780793e\" style=\"height: 525px; width: 100%;\" class=\"plotly-graph-div\"></div><script type=\"text/javascript\">require([\"plotly\"], function(Plotly) { window.PLOTLYENV=window.PLOTLYENV || {};window.PLOTLYENV.BASE_URL=\"https://plot.ly\";Plotly.newPlot(\"35018789-e50a-4a2a-b894-3de45780793e\", [{\"type\": \"bar\", \"x\": [\"do\", \"not\", \"fat\", \"for\", \"on\", \"ass\", \"go\", \"me\", \"this\", \"in\", \"nigger\", \"suck\", \"fucking\", \"my\", \"that\", \"it\", \"are\", \"of\", \"your\", \"is\", \"to\", \"and\", \"fuck\", \"the\", \"you\"], \"y\": [1889, 1893, 1926, 2038, 2193, 2211, 2235, 2463, 2521, 2685, 2781, 2792, 2799, 3212, 3453, 3563, 4666, 5087, 5517, 6019, 6400, 7558, 7925, 8635, 23907]}], {\"title\": \"Top 25 most common occured words in insult (total=365306)\"}, {\"showLink\": false, \"linkText\": \"Export to plot.ly\"})});</script>"
      ]
     },
     "metadata": {},
     "output_type": "display_data"
    },
    {
     "data": {
      "application/vnd.plotly.v1+json": {
       "data": [
        {
         "type": "bar",
         "x": [
          "cunt",
          "stupid",
          "shit",
          "suck",
          "huge",
          "me",
          "in",
          "fucking",
          "it",
          "that",
          "your",
          "are",
          "faggot",
          "die",
          "fuck",
          "of",
          "gay",
          "to",
          "jew",
          "fat",
          "the",
          "and",
          "is",
          "you",
          "nigger"
         ],
         "y": [
          394,
          396,
          409,
          427,
          430,
          466,
          513,
          518,
          549,
          594,
          615,
          703,
          742,
          879,
          880,
          901,
          918,
          1120,
          1314,
          1322,
          1412,
          1619,
          1915,
          2943,
          2969
         ]
        }
       ],
       "layout": {
        "title": "Top 25 most common occured words in identity_hate (total=70813)"
       }
      },
      "text/html": [
       "<div id=\"93a1c5c9-b22e-48a6-a516-8170ddca2d58\" style=\"height: 525px; width: 100%;\" class=\"plotly-graph-div\"></div><script type=\"text/javascript\">require([\"plotly\"], function(Plotly) { window.PLOTLYENV=window.PLOTLYENV || {};window.PLOTLYENV.BASE_URL=\"https://plot.ly\";Plotly.newPlot(\"93a1c5c9-b22e-48a6-a516-8170ddca2d58\", [{\"type\": \"bar\", \"x\": [\"cunt\", \"stupid\", \"shit\", \"suck\", \"huge\", \"me\", \"in\", \"fucking\", \"it\", \"that\", \"your\", \"are\", \"faggot\", \"die\", \"fuck\", \"of\", \"gay\", \"to\", \"jew\", \"fat\", \"the\", \"and\", \"is\", \"you\", \"nigger\"], \"y\": [394, 396, 409, 427, 430, 466, 513, 518, 549, 594, 615, 703, 742, 879, 880, 901, 918, 1120, 1314, 1322, 1412, 1619, 1915, 2943, 2969]}], {\"title\": \"Top 25 most common occured words in identity_hate (total=70813)\"}, {\"showLink\": false, \"linkText\": \"Export to plot.ly\"})});</script>"
      ],
      "text/vnd.plotly.v1+html": [
       "<div id=\"93a1c5c9-b22e-48a6-a516-8170ddca2d58\" style=\"height: 525px; width: 100%;\" class=\"plotly-graph-div\"></div><script type=\"text/javascript\">require([\"plotly\"], function(Plotly) { window.PLOTLYENV=window.PLOTLYENV || {};window.PLOTLYENV.BASE_URL=\"https://plot.ly\";Plotly.newPlot(\"93a1c5c9-b22e-48a6-a516-8170ddca2d58\", [{\"type\": \"bar\", \"x\": [\"cunt\", \"stupid\", \"shit\", \"suck\", \"huge\", \"me\", \"in\", \"fucking\", \"it\", \"that\", \"your\", \"are\", \"faggot\", \"die\", \"fuck\", \"of\", \"gay\", \"to\", \"jew\", \"fat\", \"the\", \"and\", \"is\", \"you\", \"nigger\"], \"y\": [394, 396, 409, 427, 430, 466, 513, 518, 549, 594, 615, 703, 742, 879, 880, 901, 918, 1120, 1314, 1322, 1412, 1619, 1915, 2943, 2969]}], {\"title\": \"Top 25 most common occured words in identity_hate (total=70813)\"}, {\"showLink\": false, \"linkText\": \"Export to plot.ly\"})});</script>"
      ]
     },
     "metadata": {},
     "output_type": "display_data"
    }
   ],
   "source": [
    "for class_name in class_names:\n",
    "    plot_top_words(train[train[class_name] == 1]['comment_text'], tag=class_name, n=25)"
   ]
  },
  {
   "cell_type": "code",
   "execution_count": 188,
   "metadata": {
    "collapsed": true
   },
   "outputs": [],
   "source": [
    "# Попробуйте разные Vectorizer и разные размеры n-gramm, стоп-слова, обрезку редких слов, обрезку слишком частых слов\n",
    "# TfidfVectorizer или CountVectorizer"
   ]
  },
  {
   "cell_type": "markdown",
   "metadata": {},
   "source": [
    "#### generating word features "
   ]
  },
  {
   "cell_type": "code",
   "execution_count": null,
   "metadata": {
    "collapsed": true
   },
   "outputs": [],
   "source": [
    "word_vectorizer = TfidfVectorizer(sublinear_tf=True,\n",
    "                                  strip_accents='unicode',\n",
    "                                  analyzer='word',\n",
    "                                  stop_words='english',\n",
    "                                  ngram_range=(1, 2))\n",
    "word_vectorizer.fit(all_text)\n",
    "train_word_features = word_vectorizer.transform(train_text)\n",
    "test_word_features = word_vectorizer.transform(test_text)"
   ]
  },
  {
   "cell_type": "markdown",
   "metadata": {},
   "source": [
    "#### generating char features "
   ]
  },
  {
   "cell_type": "code",
   "execution_count": null,
   "metadata": {
    "collapsed": true
   },
   "outputs": [],
   "source": [
    "char_vectorizer = TfidfVectorizer(sublinear_tf=True,\n",
    "                                  strip_accents='unicode',\n",
    "                                  analyzer='char',\n",
    "                                  stop_words='english',\n",
    "                                  ngram_range=(1, 5),\n",
    "                                  max_features=50000)\n",
    "char_vectorizer.fit(all_text)\n",
    "train_char_features = char_vectorizer.transform(train_text)\n",
    "test_char_features = char_vectorizer.transform(test_text)"
   ]
  },
  {
   "cell_type": "markdown",
   "metadata": {},
   "source": [
    "Для классификации будем использовать логистическую регрессию [LogisticRegression](http://scikit-learn.org/stable/modules/generated/sklearn.linear_model.LogisticRegression.html).\n",
    "\n",
    "Будем тренировать по одному классификатору на каждый класс. \n",
    "\n",
    "Что бы провалидировать качество модели воспользуемся функцией [cross_val_score](http://scikit-learn.org/stable/modules/generated/sklearn.model_selection.cross_val_score.html)\n",
    "\n"
   ]
  },
  {
   "cell_type": "code",
   "execution_count": 102,
   "metadata": {
    "collapsed": true
   },
   "outputs": [],
   "source": [
    "def get_cv(clf, train_features):\n",
    "    scores = []\n",
    "    for class_name in class_names:\n",
    "        train_target = train[class_name]\n",
    "        cv_score = np.mean(cross_val_score(clf, train_features, train_target, cv=3, scoring='roc_auc'))\n",
    "        scores.append(cv_score)\n",
    "        print('CV score for class {} is {}'.format(class_name, cv_score))\n",
    "    print('Total CV score is {}'.format(np.mean(scores)))\n",
    "    return np.mean(scores)"
   ]
  },
  {
   "cell_type": "markdown",
   "metadata": {},
   "source": [
    "#### word features, LogisticRegression()"
   ]
  },
  {
   "cell_type": "code",
   "execution_count": 103,
   "metadata": {
    "collapsed": true
   },
   "outputs": [
    {
     "name": "stdout",
     "output_type": "stream",
     "text": [
      "CV score for class toxic is 0.9644943285090491\n",
      "CV score for class severe_toxic is 0.9854576199552487\n",
      "CV score for class obscene is 0.9829680375216352\n",
      "CV score for class threat is 0.979847058622845\n",
      "CV score for class insult is 0.9737561757750025\n",
      "CV score for class identity_hate is 0.9723223253105706\n",
      "Total CV score is 0.9764742576157253\n"
     ]
    },
    {
     "data": {
      "text/plain": [
       "0.97647425761572526"
      ]
     },
     "execution_count": 103,
     "metadata": {},
     "output_type": "execute_result"
    }
   ],
   "source": [
    "get_cv(LogisticRegression(solver ='sag'), train_word_features)"
   ]
  },
  {
   "cell_type": "markdown",
   "metadata": {},
   "source": [
    "#### char features, LogisticRegression(C = 3)"
   ]
  },
  {
   "cell_type": "code",
   "execution_count": 100,
   "metadata": {
    "collapsed": true
   },
   "outputs": [
    {
     "name": "stdout",
     "output_type": "stream",
     "text": [
      "CV score for class toxic is 0.9767348475555533\n",
      "CV score for class severe_toxic is 0.9880759641435984\n",
      "CV score for class obscene is 0.9888452654375022\n",
      "CV score for class threat is 0.9879180828362841\n",
      "CV score for class insult is 0.9815771657570388\n",
      "CV score for class identity_hate is 0.9824328203794463\n",
      "Total CV score is 0.9842640243515706\n"
     ]
    }
   ],
   "source": [
    "get_cv(LogisticRegression(C=3, solver ='sag'), train_char_features)"
   ]
  },
  {
   "cell_type": "markdown",
   "metadata": {},
   "source": [
    "#### word+char features, LogisticRegression(C = 2)"
   ]
  },
  {
   "cell_type": "code",
   "execution_count": 90,
   "metadata": {},
   "outputs": [
    {
     "name": "stdout",
     "output_type": "stream",
     "text": [
      "CV score for class toxic is 0.9791285556490155\n",
      "CV score for class severe_toxic is 0.9891007327913183\n",
      "CV score for class obscene is 0.9909984945259841\n",
      "CV score for class threat is 0.9905960443383318\n",
      "CV score for class insult is 0.9836056044744108\n",
      "CV score for class identity_hate is 0.9836500256461803\n",
      "Total CV score is 0.9861799095708735\n"
     ]
    }
   ],
   "source": [
    "# kaggle 0.9792 \n",
    "# CV     0.9862\n",
    "train_word_char_features = hstack((train_char_features, train_word_features))\n",
    "test_word_char_features = hstack((test_char_features, test_word_features))\n",
    "\n",
    "get_cv(LogisticRegression(C=2, class_weight='balanced'), train_word_char_features, test_word_char_features )"
   ]
  },
  {
   "cell_type": "markdown",
   "metadata": {},
   "source": [
    "\n",
    "Попробуйте подобрать лучшие параметры для `word_vectorizer` и `classifier` оптимизируя метрику [ROC AUC](https://en.wikipedia.org/wiki/Receiver_operating_characteristic)"
   ]
  },
  {
   "cell_type": "markdown",
   "metadata": {},
   "source": [
    "#### Grid search on char  + word features (class specified)"
   ]
  },
  {
   "cell_type": "raw",
   "metadata": {
    "collapsed": true
   },
   "source": [
    "## C = [0.1, 1, 4, 5, 10, 100]\n",
    "grid = {'C': [1, 1.3, 1.5, 1.8, 2, 4 ]  }\n",
    "\n",
    "train_features = hstack(( train_char_features, train_word_features))\n",
    "test_features = hstack(( test_char_features, test_word_features))\n",
    "\n",
    "scores = []\n",
    "for class_name in class_names:\n",
    "    print(class_name)\n",
    "    train_target = train[class_name]\n",
    "    clf = LogisticRegression(penalty='l2', solver ='sag' ,random_state=17)\n",
    "    gridsearch = GridSearchCV(clf, grid, scoring='roc_auc', cv=3)\n",
    "    gridsearch.fit(train_features, train_target)\n",
    "    best_c = gridsearch.best_params_['C']\n",
    "    print(best_c)\n",
    "    print (f\"for {class_name}  best score is {gridsearch.best_score_}\")\n",
    "    scores.append(gridsearch.best_score_)\n",
    "    \n",
    "print('Total CV score is {}'.format(np.mean(scores)))    "
   ]
  },
  {
   "cell_type": "markdown",
   "metadata": {},
   "source": [
    "    toxic -  1.5 -   best score is 0.9788299604404311 \n",
    "    severe_toxic -  1 -   best score is 0.9883928234056799 \n",
    "    obscene -  1.5 -   best score is 0.9904771871307766\n",
    "    threat -  1.8 -  best score is 0.9899470344101339 \n",
    "    insult -  1 -  best score is  0.9829869226541981\n",
    "    identity_hate -  1 -  best score is 0.9829758012085262\n",
    "    Total CV score is **0.9856016215416242**\n",
    "    "
   ]
  },
  {
   "cell_type": "code",
   "execution_count": 192,
   "metadata": {
    "collapsed": true
   },
   "outputs": [],
   "source": [
    "grid_c = dict({'toxic' : 1.5, \n",
    "              'severe_toxic' : 1,\n",
    "              'obscene' : 1.5,\n",
    "              'threat' : 1.8,\n",
    "              'insult' : 1,\n",
    "              'identity_hate' : 1 \n",
    "             })"
   ]
  },
  {
   "cell_type": "markdown",
   "metadata": {},
   "source": [
    "#### Pipeline Feature Union GridSearch"
   ]
  },
  {
   "cell_type": "code",
   "execution_count": null,
   "metadata": {
    "collapsed": true
   },
   "outputs": [],
   "source": [
    "# for toxic comments \n",
    "combined_features = FeatureUnion([(\"word\", word_vectorizer), (\"char\", char_vectorizer)])\n",
    "combined_features.fit(train_text, test_text).transform(train_text)\n",
    "\n",
    "logit = LogisticRegression(solver='sag', C=2)\n",
    "pipeline = Pipeline([(\"features\", combined_features), (\"logit\", logit)])\n",
    "param_grid = dict(features__word__ngram_range=[(1, 1), (1, 2), (1, 3)],\n",
    "                  features__char__ngram_range=[(1, 3), (2, 4), (1,5)]\n",
    "                  #logit__C=[1, 1.5]\n",
    "                 )\n",
    "grid_search = GridSearchCV(pipeline, param_grid=param_grid, verbose=10, scoring='roc_auc', cv=3 )\n",
    "grid_search.fit(train_text, train['toxic'])"
   ]
  },
  {
   "cell_type": "markdown",
   "metadata": {},
   "source": [
    "    char_vectorizer n_gram_range: (2,4) \n",
    "    word_vectorizer n_gram_range: (1,1) "
   ]
  },
  {
   "cell_type": "code",
   "execution_count": 140,
   "metadata": {
    "collapsed": true
   },
   "outputs": [],
   "source": [
    "def tokenizer(text):\n",
    "    text = text.str.replace(r\"http\\S+\", \"\")\n",
    "    text = text.str.replace(r\"http\", \"\")\n",
    "    text = text.str.replace(r\"@\\S+\", \"\")\n",
    "    text = text.str.replace(r\"[^A-Za-z0-9(),!?@\\'\\`\\\"\\_\\n]\", \" \")\n",
    "    text = text.str.replace(r\"@\", \"at\")\n",
    "    text = text.str.lower()\n",
    "    tokens = tokenize(text)\n",
    "    lemmatizer = WordNetLemmatizer()\n",
    "    lemms = [lemmatizer.lemmatize(t) for t in tokens]\n",
    "    return lemms"
   ]
  },
  {
   "cell_type": "code",
   "execution_count": 172,
   "metadata": {
    "collapsed": true
   },
   "outputs": [
    {
     "name": "stdout",
     "output_type": "stream",
     "text": [
      "CPU times: user 6min 55s, sys: 14.6 s, total: 7min 9s\n",
      "Wall time: 7min 21s\n"
     ]
    }
   ],
   "source": [
    "%%time\n",
    "char_vectorizer = TfidfVectorizer(sublinear_tf=True,\n",
    "                                  strip_accents='unicode',\n",
    "                                  norm = 'l2',\n",
    "                                  analyzer='char',\n",
    "                                  ngram_range=(2, 4),\n",
    "                                  smooth_idf=False,\n",
    "                                  max_features=50000)\n",
    "\n",
    "char_vectorizer.fit(all_text)\n",
    "train_char_features = char_vectorizer.transform(train_text)\n",
    "test_char_features = char_vectorizer.transform(test_text)\n"
   ]
  },
  {
   "cell_type": "code",
   "execution_count": 158,
   "metadata": {
    "collapsed": true
   },
   "outputs": [],
   "source": [
    "word_vectorizer = TfidfVectorizer(ngram_range=(1, 1), \n",
    "                                  tokenizer=tokenizer,\n",
    "                                  max_features=15000, \n",
    "                                  norm='l2',\n",
    "                                  smooth_idf=False,\n",
    "                                  sublinear_tf=True,\n",
    "                                  strip_accents='unicode')\n",
    "word_vectorizer.fit(all_text)\n",
    "train_word_features = word_vectorizer.transform(train_text)\n",
    "test_word_features = word_vectorizer.transform(test_text)"
   ]
  },
  {
   "cell_type": "code",
   "execution_count": null,
   "metadata": {
    "collapsed": true
   },
   "outputs": [],
   "source": []
  },
  {
   "cell_type": "code",
   "execution_count": null,
   "metadata": {
    "collapsed": true
   },
   "outputs": [],
   "source": []
  },
  {
   "cell_type": "markdown",
   "metadata": {},
   "source": [
    "## Final Solution"
   ]
  },
  {
   "cell_type": "code",
   "execution_count": 162,
   "metadata": {
    "collapsed": true
   },
   "outputs": [],
   "source": [
    "train2_features = hstack([train_char_features, train_word_features])\n",
    "test2_features = hstack([test_char_features, test_word_features])"
   ]
  },
  {
   "cell_type": "code",
   "execution_count": 163,
   "metadata": {},
   "outputs": [
    {
     "name": "stdout",
     "output_type": "stream",
     "text": [
      "toxic\n",
      "severe_toxic\n",
      "obscene\n",
      "threat\n",
      "insult\n",
      "identity_hate\n"
     ]
    }
   ],
   "source": [
    "submission = pd.DataFrame.from_dict({'id': test['id']})\n",
    "for class_name in class_names:\n",
    "    #print(class_name)\n",
    "    c = grid_c[class_name]\n",
    "    classifier = LogisticRegression(solver='lbfgs', n_jobs=-1, C=c)\n",
    "    train_target = train[class_name]\n",
    "    classifier.fit(train2_features, train_target)\n",
    "    submission[class_name] = classifier.predict_proba(test2_features)[:, 1]    "
   ]
  },
  {
   "cell_type": "code",
   "execution_count": 164,
   "metadata": {
    "collapsed": true
   },
   "outputs": [],
   "source": [
    "submission.to_csv('finalkaggle.csv', index=False)"
   ]
  },
  {
   "cell_type": "code",
   "execution_count": null,
   "metadata": {
    "collapsed": true
   },
   "outputs": [],
   "source": []
  },
  {
   "cell_type": "code",
   "execution_count": null,
   "metadata": {
    "collapsed": true
   },
   "outputs": [],
   "source": []
  },
  {
   "cell_type": "code",
   "execution_count": null,
   "metadata": {
    "collapsed": true
   },
   "outputs": [],
   "source": []
  },
  {
   "cell_type": "code",
   "execution_count": 147,
   "metadata": {
    "collapsed": true
   },
   "outputs": [],
   "source": [
    "word_vectorizer = TfidfVectorizer(ngram_range=(1, 1), \n",
    "                                  tokenizer=tokenizer2,\n",
    "                                  max_features=15000, \n",
    "                                  norm='l2',\n",
    "                                  smooth_idf=False,\n",
    "                                  sublinear_tf=True,\n",
    "                                  strip_accents='unicode')"
   ]
  },
  {
   "cell_type": "code",
   "execution_count": 142,
   "metadata": {
    "collapsed": true
   },
   "outputs": [],
   "source": [
    "word_vectorizer.fit(all_text)\n",
    "train_word_features = word_vectorizer.transform(train_text)\n",
    "test_word_features = word_vectorizer.transform(test_text)"
   ]
  },
  {
   "cell_type": "code",
   "execution_count": 143,
   "metadata": {
    "collapsed": true
   },
   "outputs": [],
   "source": [
    "train_features = hstack([train_char_features, train_word_features])\n",
    "test_features = hstack([test_char_features, test_word_features])"
   ]
  },
  {
   "cell_type": "code",
   "execution_count": 144,
   "metadata": {
    "collapsed": true
   },
   "outputs": [],
   "source": [
    "c_s = [1.5, 1, 1.5, 1.8, 1, 1]\n",
    "for c, class_name in zip(c_s, class_names):\n",
    "    classifier = LogisticRegression(solver='lbfgs', n_jobs=-1, C=c)\n",
    "    train_target = train[class_name]\n",
    "    classifier.fit(train_features, train_target)\n",
    "    submission[class_name] = classifier.predict_proba(test_features)[:, 1]    "
   ]
  },
  {
   "cell_type": "markdown",
   "metadata": {},
   "source": [
    "## 4. Publishing results of mb the best model on kaggle "
   ]
  },
  {
   "cell_type": "markdown",
   "metadata": {},
   "source": [
    "Опубликуйте лучшие решение на [Kaggle Toxic Comment Classification Challenge](https://www.kaggle.com/c/jigsaw-toxic-comment-classification-challenge/submit)"
   ]
  },
  {
   "cell_type": "markdown",
   "metadata": {},
   "source": [
    "**0.9796 **  - Kaggle score\n",
    "    lem_word_features + char_features + grid_search for every class"
   ]
  },
  {
   "cell_type": "code",
   "execution_count": 145,
   "metadata": {
    "collapsed": true
   },
   "outputs": [],
   "source": [
    "submission.to_csv('kagglesubmission.csv', index=False)"
   ]
  },
  {
   "cell_type": "markdown",
   "metadata": {},
   "source": [
    "# . . . . . . . . . . . . . . . . . . . . . . . . . . . . . . . . . . . . . . . . . . . . . . . . . . . . . . . . . . . . . . "
   ]
  },
  {
   "cell_type": "markdown",
   "metadata": {},
   "source": [
    "# . . . . . . . . . . . . . . . . . . . . . . . . . . . . . . . . . . . . . . . . . . . . . . . . . . . . . . . . . . . . . . "
   ]
  },
  {
   "cell_type": "markdown",
   "metadata": {},
   "source": [
    "### looking for some interesting dependencies "
   ]
  },
  {
   "cell_type": "code",
   "execution_count": 193,
   "metadata": {
    "collapsed": true
   },
   "outputs": [],
   "source": [
    "import string\n",
    "from nltk import pos_tag\n",
    "from nltk.corpus import stopwords\n",
    "import operator\n",
    "from textblob import Word, TextBlob\n",
    "import re \n",
    "from nltk.stem import WordNetLemmatizer"
   ]
  },
  {
   "cell_type": "code",
   "execution_count": 6,
   "metadata": {
    "collapsed": true
   },
   "outputs": [],
   "source": [
    "positive_smiles = set([\n",
    "\":‑)\",\":)\",\":-]\",\":]\",\":-3\",\":3\",\":->\",\":>\",\"8-)\",\"8)\",\":-}\",\":}\",\":o)\",\":c)\",\":^)\",\"=]\",\"=)\",\":‑D\",\":D\",\"8‑D\",\"8D\",\n",
    "\"x‑D\",\"xD\",\"X‑D\",\"XD\",\"=D\",\"=3\",\"B^D\",\":-))\",\";‑)\",\";)\",\"*-)\",\"*)\",\";‑]\",\";]\",\";^)\",\":‑,\",\";D\",\":‑P\",\":P\",\"X‑P\",\"XP\",\n",
    "\"x‑p\",\"xp\",\":‑p\",\":p\",\":‑Þ\",\":Þ\",\":‑þ\",\":þ\",\":‑b\",\":b\",\"d:\",\"=p\",\">:P\", \":'‑)\", \":')\",  \":-*\", \":*\", \":×\", \":)\", \"))\",\n",
    "\")\"\n",
    "])\n",
    "negative_smiles = set([\n",
    "\":‑(\",\":(\",\":‑c\",\":c\",\":‑<\",\":<\",\":‑[\",\":[\",\":-||\",\">:[\",\":{\",\":@\",\">:(\",\"D‑':\",\"D:<\",\"D:\",\"D8\",\"D;\",\"D=\",\"DX\",\":‑/\",\n",
    "\":/\",\":‑.\",'>:\\\\', \">:/\", \":\\\\\", \"=/\" ,\"=\\\\\", \":L\", \"=L\",\":S\",\":‑|\",\":|\",\"|‑O\",\"<:‑|\", \"(\", \"((\", \":(\"\n",
    "])\n",
    "\n",
    "contrast_conj = set([\n",
    "'alternatively','anyway','but','by contrast','differ from','elsewhere','even so','however','in contrast','in fact',\n",
    "'in other respects','in spite of','in that respect','instead','nevertheless','on the contrary','on the other hand',\n",
    "'rather','though','whereas','yet', 'unfortunately'])\n"
   ]
  },
  {
   "cell_type": "code",
   "execution_count": 7,
   "metadata": {
    "collapsed": true
   },
   "outputs": [],
   "source": [
    "repeated_threshold = 15\n",
    "def count_repeated(text):\n",
    "    text_splitted = text.split()\n",
    "    word_counts = collections.Counter(text_splitted)\n",
    "    return sum(count for word, count in sorted(word_counts.items()) if count > repeated_threshold)\n",
    "eng_stopwords = set(stopwords.words(\"english\"))\n",
    "\n",
    "def purity(sentences):\n",
    "    polarities = np.array([TextBlob(x).sentiment.polarity for x in sentences])\n",
    "    return polarities.sum() / np.abs(polarities).sum()\n",
    "\n",
    "uppercase_pattern = re.compile(r'(\\b[0-9]*[A-Z]+[0-9]*[A-Z]+[0-9]*\\b)')\n",
    "sentence_splitter = re.compile('(?<!\\w\\.\\w.)(?<![A-Z][a-z]\\.)(?<![A-Z]\\.)(?<=\\!|\\?|\\.)\\s')"
   ]
  },
  {
   "cell_type": "code",
   "execution_count": 70,
   "metadata": {
    "collapsed": true
   },
   "outputs": [],
   "source": [
    "def generate_my_features(train):\n",
    "    tdf = pd.DataFrame()\n",
    "    tdf['text'] = train['comment_text']\n",
    "    tdf['positive_smiles'] = tdf.text.apply(lambda s: len([x for x in s.split() if x in positive_smiles]))\n",
    "    tdf['negative_smiles'] = tdf.text.apply(lambda s: len([x for x in s.split() if x in negative_smiles]))\n",
    "   \n",
    "    tdf['total_length'] = tdf.text.apply(len)\n",
    "    tdf['words'] = tdf.text.apply(lambda comment: len(comment.split()))\n",
    "    tdf['words_vs_length'] = tdf['words'] / tdf['total_length']\n",
    "\n",
    "    tdf['capitals'] = tdf.text.apply(lambda comment: sum(1 for c in comment if c.isupper()))\n",
    "    tdf['capitals_vs_length'] = tdf['capitals'] / tdf['total_length']\n",
    "    tdf['capitals_vs_words'] = tdf['capitals'] / tdf['words']\n",
    "\n",
    "    tdf['paragraphs'] = tdf.text.apply(lambda comment: comment.count('\\n'))\n",
    "    tdf['paragraphs_vs_length'] = tdf['paragraphs'] / tdf['total_length']\n",
    "    tdf['paragraphs_vs_words'] = tdf['paragraphs'] / tdf['words']\n",
    "\n",
    "    tdf['stopwords'] = tdf.text.apply(lambda comment: sum(comment.count(w) for w in eng_stopwords))\n",
    "    tdf['stopwords_vs_length'] = tdf['stopwords'] / tdf['total_length']\n",
    "    tdf['stopwords_vs_words'] = tdf['stopwords'] / tdf['words']\n",
    "\n",
    "    tdf['exclamation_marks'] = tdf.text.apply(lambda comment: comment.count('!'))\n",
    "    tdf['exclamation_marks_vs_length'] = tdf['exclamation_marks'] / tdf['total_length']\n",
    "    tdf['exclamation_marks_vs_words'] = tdf['exclamation_marks'] / tdf['words']\n",
    "\n",
    "    tdf['question_marks'] = tdf.text.apply(lambda comment: comment.count('?'))\n",
    "    tdf['question_marks_vs_length'] = tdf['question_marks'] / tdf['total_length']\n",
    "    tdf['question_marks_vs_words'] = tdf['question_marks'] / tdf['words']\n",
    "\n",
    "    tdf['punctuation'] = tdf.text.apply(\n",
    "        lambda comment: sum(comment.count(w) for w in string.punctuation))\n",
    "    tdf['punctuation_vs_length'] = tdf['punctuation'] / tdf['total_length']\n",
    "    tdf['punctuation_vs_words'] = tdf['punctuation'] / tdf['words']\n",
    "\n",
    "    tdf['unique_words'] = tdf.text.apply(\n",
    "        lambda comment: len(set(w for w in comment.split())))\n",
    "    tdf['unique_words_vs_length'] = tdf['unique_words'] / tdf['total_length']\n",
    "    tdf['unique_words_vs_words'] = tdf['unique_words'] / tdf['words']\n",
    "\n",
    "    tdf['repeated_words'] = tdf.text.apply(lambda comment: count_repeated(comment))\n",
    "    tdf['repeated_words_vs_length'] = tdf['repeated_words'] / tdf['total_length']\n",
    "    tdf['repeated_words_vs_words'] = tdf['repeated_words'] / tdf['words']\n",
    "    tdf['sentences'] = tdf.text.apply(lambda s: re.split(sentence_splitter, s)) \n",
    "    tdf['sentence_cnt'] = tdf['sentences'].apply(len) \n",
    "    tdf['exclamation_cnt'] = tdf.text.str.count('\\!') \n",
    "    tdf['question_cnt'] = tdf.text.str.count('\\?') \n",
    "    tdf['upper_word_cnt'] = tdf.text.apply(lambda s: len(re.findall(uppercase_pattern, s)))\n",
    "    tdf['contrast_conj_cnt'] = tdf.text.apply(lambda s: len([c for c in contrast_conj if c in s]))\n",
    "    \n",
    "    tdf['polarity_1st_sent'] = tdf.sentences.apply(lambda s: TextBlob(s[0]).sentiment.polarity)\n",
    "    \n",
    "    tdf['subjectivity_1st_sent'] = tdf.sentences.apply(lambda s: TextBlob(s[0]).sentiment.subjectivity)\n",
    "    \n",
    "    tdf['polarity_last_sent'] = tdf.sentences.apply(lambda s: TextBlob(s[-1]).sentiment.polarity)\n",
    "    tdf['polarity'] = tdf.text.apply(lambda s: TextBlob(s[-1]).sentiment.polarity)\n",
    "    tdf['purity'] = tdf.sentences.apply(purity)\n",
    "    tdf['purity'].fillna(0, inplace=True)\n",
    "    \n",
    "    return tdf "
   ]
  },
  {
   "cell_type": "code",
   "execution_count": null,
   "metadata": {
    "collapsed": true
   },
   "outputs": [],
   "source": [
    "train_matrix_features = generate_my_features(train)\n",
    "test_matrix_features = generate_my_features(test)"
   ]
  },
  {
   "cell_type": "code",
   "execution_count": 76,
   "metadata": {
    "collapsed": true
   },
   "outputs": [],
   "source": [
    "features = ('positive_smiles', 'negative_smiles', 'total_length', 'words',\n",
    "       'words_vs_length', 'capitals', 'capitals_vs_length',\n",
    "       'capitals_vs_words', 'paragraphs', 'paragraphs_vs_length',\n",
    "       'paragraphs_vs_words', 'stopwords', 'stopwords_vs_length',\n",
    "       'stopwords_vs_words', 'exclamation_marks',\n",
    "       'exclamation_marks_vs_length', 'exclamation_marks_vs_words',\n",
    "       'question_marks', 'question_marks_vs_length', 'question_marks_vs_words',\n",
    "       'punctuation', 'punctuation_vs_length', 'punctuation_vs_words',\n",
    "       'unique_words', 'unique_words_vs_length', 'unique_words_vs_words',\n",
    "       'repeated_words', 'repeated_words_vs_length', 'repeated_words_vs_words',\n",
    "       'sentence_cnt', 'exclamation_cnt', 'question_cnt',\n",
    "       'upper_word_cnt', 'contrast_conj_cnt', 'polarity_1st_sent',\n",
    "       'subjectivity_1st_sent', 'polarity_last_sent', 'polarity', 'purity')"
   ]
  },
  {
   "cell_type": "code",
   "execution_count": 77,
   "metadata": {},
   "outputs": [
    {
     "data": {
      "text/plain": [
       "<matplotlib.axes._subplots.AxesSubplot at 0x1a3f84a5f8>"
      ]
     },
     "execution_count": 77,
     "metadata": {},
     "output_type": "execute_result"
    },
    {
     "data": {
      "image/png": "[encoded data removed]",
      "text/plain": [
       "<matplotlib.figure.Figure at 0x1a3f7b9a20>"
      ]
     },
     "metadata": {},
     "output_type": "display_data"
    }
   ],
   "source": [
    "rows = [{c:train_matrix_features[f].corr(train[c]) for c in class_names} for f in features]\n",
    "df_correlations = pd.DataFrame(rows, index=features)\n",
    "plt.rcParams['figure.figsize'] = (10, 8)\n",
    "sns.heatmap(df_correlations, annot=True, vmin=-0.2, vmax=0.2, center=0.0 )"
   ]
  },
  {
   "cell_type": "code",
   "execution_count": 17,
   "metadata": {
    "collapsed": true
   },
   "outputs": [],
   "source": [
    "add_features = ['total_length', 'words', 'words_vs_length', 'capitals',\n",
    "       'capitals_vs_length', 'capitals_vs_words', 'paragraphs_vs_length',\n",
    "       'paragraphs_vs_words', 'stopwords', 'stopwords_vs_length',\n",
    "       'stopwords_vs_words', 'unique_words', 'unique_words_vs_length',\n",
    "       'repeated_words', 'repeated_words_vs_length', 'repeated_words_vs_words',\n",
    "       'exclamation_cnt', 'upper_word_cnt', 'contrast_conj_cnt',\n",
    "       'polarity_1st_sent', 'subjectivity_1st_sent', 'polarity_last_sent',\n",
    "       'purity']"
   ]
  },
  {
   "cell_type": "code",
   "execution_count": 187,
   "metadata": {},
   "outputs": [
    {
     "data": {
      "text/html": [
       "<div>\n",
       "<style>\n",
       "    .dataframe thead tr:only-child th {\n",
       "        text-align: right;\n",
       "    }\n",
       "\n",
       "    .dataframe thead th {\n",
       "        text-align: left;\n",
       "    }\n",
       "\n",
       "    .dataframe tbody tr th {\n",
       "        vertical-align: top;\n",
       "    }\n",
       "</style>\n",
       "<table border=\"1\" class=\"dataframe\">\n",
       "  <thead>\n",
       "    <tr style=\"text-align: right;\">\n",
       "      <th></th>\n",
       "      <th>text</th>\n",
       "      <th>positive_smiles</th>\n",
       "      <th>negative_smiles</th>\n",
       "      <th>total_length</th>\n",
       "      <th>words</th>\n",
       "      <th>words_vs_length</th>\n",
       "      <th>capitals</th>\n",
       "      <th>capitals_vs_length</th>\n",
       "      <th>capitals_vs_words</th>\n",
       "      <th>paragraphs</th>\n",
       "      <th>...</th>\n",
       "      <th>sentence_cnt</th>\n",
       "      <th>exclamation_cnt</th>\n",
       "      <th>question_cnt</th>\n",
       "      <th>upper_word_cnt</th>\n",
       "      <th>contrast_conj_cnt</th>\n",
       "      <th>polarity_1st_sent</th>\n",
       "      <th>subjectivity_1st_sent</th>\n",
       "      <th>polarity_last_sent</th>\n",
       "      <th>polarity</th>\n",
       "      <th>purity</th>\n",
       "    </tr>\n",
       "  </thead>\n",
       "  <tbody>\n",
       "    <tr>\n",
       "      <th>0</th>\n",
       "      <td>Explanation\\nWhy the edits made under my usern...</td>\n",
       "      <td>0</td>\n",
       "      <td>0</td>\n",
       "      <td>264</td>\n",
       "      <td>43</td>\n",
       "      <td>0.162879</td>\n",
       "      <td>17</td>\n",
       "      <td>0.064394</td>\n",
       "      <td>0.395349</td>\n",
       "      <td>1</td>\n",
       "      <td>...</td>\n",
       "      <td>2</td>\n",
       "      <td>0</td>\n",
       "      <td>1</td>\n",
       "      <td>1</td>\n",
       "      <td>0</td>\n",
       "      <td>0.000</td>\n",
       "      <td>0.0</td>\n",
       "      <td>0.136364</td>\n",
       "      <td>0.0</td>\n",
       "      <td>1.0</td>\n",
       "    </tr>\n",
       "    <tr>\n",
       "      <th>1</th>\n",
       "      <td>D'aww! He matches this background colour I'm s...</td>\n",
       "      <td>0</td>\n",
       "      <td>0</td>\n",
       "      <td>112</td>\n",
       "      <td>17</td>\n",
       "      <td>0.151786</td>\n",
       "      <td>8</td>\n",
       "      <td>0.071429</td>\n",
       "      <td>0.470588</td>\n",
       "      <td>0</td>\n",
       "      <td>...</td>\n",
       "      <td>4</td>\n",
       "      <td>1</td>\n",
       "      <td>0</td>\n",
       "      <td>1</td>\n",
       "      <td>0</td>\n",
       "      <td>0.375</td>\n",
       "      <td>0.9</td>\n",
       "      <td>0.000000</td>\n",
       "      <td>0.0</td>\n",
       "      <td>1.0</td>\n",
       "    </tr>\n",
       "  </tbody>\n",
       "</table>\n",
       "<p>2 rows × 41 columns</p>\n",
       "</div>"
      ],
      "text/plain": [
       "                                                text  positive_smiles  \\\n",
       "0  Explanation\\nWhy the edits made under my usern...                0   \n",
       "1  D'aww! He matches this background colour I'm s...                0   \n",
       "\n",
       "   negative_smiles  total_length  words  words_vs_length  capitals  \\\n",
       "0                0           264     43         0.162879        17   \n",
       "1                0           112     17         0.151786         8   \n",
       "\n",
       "   capitals_vs_length  capitals_vs_words  paragraphs   ...    sentence_cnt  \\\n",
       "0            0.064394           0.395349           1   ...               2   \n",
       "1            0.071429           0.470588           0   ...               4   \n",
       "\n",
       "   exclamation_cnt  question_cnt  upper_word_cnt  contrast_conj_cnt  \\\n",
       "0                0             1               1                  0   \n",
       "1                1             0               1                  0   \n",
       "\n",
       "   polarity_1st_sent  subjectivity_1st_sent  polarity_last_sent  polarity  \\\n",
       "0              0.000                    0.0            0.136364       0.0   \n",
       "1              0.375                    0.9            0.000000       0.0   \n",
       "\n",
       "   purity  \n",
       "0     1.0  \n",
       "1     1.0  \n",
       "\n",
       "[2 rows x 41 columns]"
      ]
     },
     "execution_count": 187,
     "metadata": {},
     "output_type": "execute_result"
    }
   ],
   "source": [
    "train_matrix_features.head(2)"
   ]
  },
  {
   "cell_type": "code",
   "execution_count": 66,
   "metadata": {
    "collapsed": true
   },
   "outputs": [],
   "source": [
    "tr_features = hstack(( train_char_features, train_lem_features, train_matrix_features[add_features]))\n",
    "tst_features = hstack(( test_char_features, test_lem_features, test_matrix_features[add_features]))"
   ]
  },
  {
   "cell_type": "code",
   "execution_count": 68,
   "metadata": {
    "collapsed": true
   },
   "outputs": [
    {
     "name": "stderr",
     "output_type": "stream",
     "text": [
      "/Users/lena/anaconda3/lib/python3.6/site-packages/sklearn/linear_model/sag.py:326: ConvergenceWarning:\n",
      "\n",
      "The max_iter was reached which means the coef_ did not converge\n",
      "\n",
      "/Users/lena/anaconda3/lib/python3.6/site-packages/sklearn/linear_model/sag.py:326: ConvergenceWarning:\n",
      "\n",
      "The max_iter was reached which means the coef_ did not converge\n",
      "\n",
      "/Users/lena/anaconda3/lib/python3.6/site-packages/sklearn/linear_model/sag.py:326: ConvergenceWarning:\n",
      "\n",
      "The max_iter was reached which means the coef_ did not converge\n",
      "\n"
     ]
    },
    {
     "name": "stdout",
     "output_type": "stream",
     "text": [
      "CV score for class toxic is 0.6706791683454024\n"
     ]
    },
    {
     "name": "stderr",
     "output_type": "stream",
     "text": [
      "/Users/lena/anaconda3/lib/python3.6/site-packages/sklearn/linear_model/sag.py:326: ConvergenceWarning:\n",
      "\n",
      "The max_iter was reached which means the coef_ did not converge\n",
      "\n",
      "/Users/lena/anaconda3/lib/python3.6/site-packages/sklearn/linear_model/sag.py:326: ConvergenceWarning:\n",
      "\n",
      "The max_iter was reached which means the coef_ did not converge\n",
      "\n",
      "/Users/lena/anaconda3/lib/python3.6/site-packages/sklearn/linear_model/sag.py:326: ConvergenceWarning:\n",
      "\n",
      "The max_iter was reached which means the coef_ did not converge\n",
      "\n"
     ]
    },
    {
     "name": "stdout",
     "output_type": "stream",
     "text": [
      "CV score for class severe_toxic is 0.7269947524532846\n"
     ]
    },
    {
     "name": "stderr",
     "output_type": "stream",
     "text": [
      "/Users/lena/anaconda3/lib/python3.6/site-packages/sklearn/linear_model/sag.py:326: ConvergenceWarning:\n",
      "\n",
      "The max_iter was reached which means the coef_ did not converge\n",
      "\n",
      "/Users/lena/anaconda3/lib/python3.6/site-packages/sklearn/linear_model/sag.py:326: ConvergenceWarning:\n",
      "\n",
      "The max_iter was reached which means the coef_ did not converge\n",
      "\n",
      "/Users/lena/anaconda3/lib/python3.6/site-packages/sklearn/linear_model/sag.py:326: ConvergenceWarning:\n",
      "\n",
      "The max_iter was reached which means the coef_ did not converge\n",
      "\n"
     ]
    },
    {
     "name": "stdout",
     "output_type": "stream",
     "text": [
      "CV score for class obscene is 0.6733682377031455\n"
     ]
    },
    {
     "name": "stderr",
     "output_type": "stream",
     "text": [
      "/Users/lena/anaconda3/lib/python3.6/site-packages/sklearn/linear_model/sag.py:326: ConvergenceWarning:\n",
      "\n",
      "The max_iter was reached which means the coef_ did not converge\n",
      "\n",
      "/Users/lena/anaconda3/lib/python3.6/site-packages/sklearn/linear_model/sag.py:326: ConvergenceWarning:\n",
      "\n",
      "The max_iter was reached which means the coef_ did not converge\n",
      "\n",
      "/Users/lena/anaconda3/lib/python3.6/site-packages/sklearn/linear_model/sag.py:326: ConvergenceWarning:\n",
      "\n",
      "The max_iter was reached which means the coef_ did not converge\n",
      "\n"
     ]
    },
    {
     "name": "stdout",
     "output_type": "stream",
     "text": [
      "CV score for class threat is 0.6593052775448339\n"
     ]
    },
    {
     "name": "stderr",
     "output_type": "stream",
     "text": [
      "/Users/lena/anaconda3/lib/python3.6/site-packages/sklearn/linear_model/sag.py:326: ConvergenceWarning:\n",
      "\n",
      "The max_iter was reached which means the coef_ did not converge\n",
      "\n",
      "/Users/lena/anaconda3/lib/python3.6/site-packages/sklearn/linear_model/sag.py:326: ConvergenceWarning:\n",
      "\n",
      "The max_iter was reached which means the coef_ did not converge\n",
      "\n",
      "/Users/lena/anaconda3/lib/python3.6/site-packages/sklearn/linear_model/sag.py:326: ConvergenceWarning:\n",
      "\n",
      "The max_iter was reached which means the coef_ did not converge\n",
      "\n"
     ]
    },
    {
     "name": "stdout",
     "output_type": "stream",
     "text": [
      "CV score for class insult is 0.6691122918524753\n"
     ]
    },
    {
     "name": "stderr",
     "output_type": "stream",
     "text": [
      "/Users/lena/anaconda3/lib/python3.6/site-packages/sklearn/linear_model/sag.py:326: ConvergenceWarning:\n",
      "\n",
      "The max_iter was reached which means the coef_ did not converge\n",
      "\n",
      "/Users/lena/anaconda3/lib/python3.6/site-packages/sklearn/linear_model/sag.py:326: ConvergenceWarning:\n",
      "\n",
      "The max_iter was reached which means the coef_ did not converge\n",
      "\n",
      "/Users/lena/anaconda3/lib/python3.6/site-packages/sklearn/linear_model/sag.py:326: ConvergenceWarning:\n",
      "\n",
      "The max_iter was reached which means the coef_ did not converge\n",
      "\n"
     ]
    },
    {
     "name": "stdout",
     "output_type": "stream",
     "text": [
      "CV score for class identity_hate is 0.6456078433923929\n",
      "Total CV score is 0.673676936065536\n"
     ]
    }
   ],
   "source": [
    "for class_name in class_names:\n",
    "    train_target = train[class_name]\n",
    "    classifier = LogisticRegression( solver='sag', C=2)\n",
    "    \n",
    "    cv_score = np.mean(cross_val_score(classifier, tr_features, train_target, cv=3, scoring='roc_auc'))\n",
    "    scores.append(cv_score)\n",
    "    print('CV score for class {} is {}'.format(class_name, cv_score))\n",
    "print('Total CV score is {}'.format(np.mean(scores)))"
   ]
  },
  {
   "cell_type": "markdown",
   "metadata": {},
   "source": [
    "I don't know why but roc-auc is getting lower after adding new features (normalizing doesn't help)"
   ]
  }
 ],
 "metadata": {
  "kernelspec": {
   "display_name": "Python 3",
   "language": "python",
   "name": "python3"
  },
  "language_info": {
   "codemirror_mode": {
    "name": "ipython",
    "version": 3
   },
   "file_extension": ".py",
   "mimetype": "text/x-python",
   "name": "python",
   "nbconvert_exporter": "python",
   "pygments_lexer": "ipython3",
   "version": "3.6.3"
  }
 },
 "nbformat": 4,
 "nbformat_minor": 2
}
