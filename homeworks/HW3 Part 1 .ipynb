{
 "cells": [
  {
   "cell_type": "markdown",
   "metadata": {},
   "source": [
    "# Homework 3 \n",
    "\n",
    "You will have 2 datasets to work on. \n",
    "#### You have to answer questions in this [form](https://goo.gl/forms/5gfxvKZxpoydoeOB2) and provide your code\n",
    "\n",
    "### 1. Wikipedia Web Traffic Time Series\n",
    "\n",
    "Data from [Kaggle competition](https://www.kaggle.com/c/web-traffic-time-series-forecasting)* )\n",
    "\n",
    "*wikipedia_train3* - train data *wikipedia_test3* - test data created by us from original train data . For more information about dataset, please visit Homework1 assignment\n",
    "\n",
    "\n",
    "### 2. French dataset\n",
    "\n",
    "Target variable is prime_tot_ttc – house of insurance price.<p>\n",
    "The variables in the files are:<p>\n",
    "code_postal: postal code of the insured property<p>\n",
    "nb_pieces: number of rooms<p>\n",
    "veranda: presence of a veranda<p>\n",
    "biens_nomades: ceiling of coverage of goods (laptop, tablets, musical instruments ,…)<p>\n",
    "sit_fam: family situation of the insured<p>\n",
    "profession: profession of the insured<p>\n",
    "nature_lri: nature of the insured property<p>\n",
    "societe: company covering the risk<p>\n",
    "cdomact: area of activity of the insured<p>\n",
    "niv_urbanisation: level of urbanization in which is the insured property<p>\n",
    "age_societaire: age of the member<p>\n",
    "objets_precieux: presence of precious objects in the insured property<p>\n",
    "pres_contrat_auto: holding a contract of auto insurance<p>\n",
    "formule: guarantee formula<p>\n",
    "sit_juridique: legal situation<p>\n",
    "surf_habitat: area of insured property<p>\n",
    "patrimoine_mob: amount of heritage insured furniture<p>\n",
    "var1 - ... - var11: non-explicit variables<p>\n"
   ]
  },
  {
   "cell_type": "code",
   "execution_count": 3,
   "metadata": {
    "collapsed": true
   },
   "outputs": [],
   "source": [
    "import pandas as pd\n",
    "import numpy as np\n",
    "#for EDA\n",
    "import pandas_profiling as pp\n",
    "\n",
    "\n",
    "from dateutil.relativedelta import relativedelta\n",
    "import math\n",
    "from math import fabs\n",
    "\n",
    "from sklearn.model_selection import cross_val_score\n",
    "from sklearn.tree import DecisionTreeRegressor\n",
    "from sklearn.preprocessing import LabelEncoder\n",
    "\n",
    "# vizualizing\n",
    "import matplotlib.pyplot as plt\n",
    "% matplotlib inline \n",
    "import seaborn as sns\n",
    "import matplotlib.style as style\n",
    "import calmap \n",
    "import warnings\n",
    "warnings.simplefilter('ignore')"
   ]
  },
  {
   "cell_type": "markdown",
   "metadata": {},
   "source": [
    "## Wikipedia page views (SMAPE metric)"
   ]
  },
  {
   "cell_type": "code",
   "execution_count": 4,
   "metadata": {
    "collapsed": true
   },
   "outputs": [],
   "source": [
    "train = pd.read_csv(\"../data/wikipedia3/wikipedia_train3.csv\", parse_dates=['date'])\n",
    "test = pd.read_csv(\"../data/wikipedia3/wikipedia_test3.csv\", parse_dates=['date'])"
   ]
  },
  {
   "cell_type": "markdown",
   "metadata": {},
   "source": [
    "**1.** Take a look carefuly at train and test dataset. Note for you what is the difference in them and how they are dependent. **For _only_ train** create a holdout validation using any type of split you think is useful here. What is the split type you are using? Answer in google forms\n",
    "\n",
    "**2.** Write a code to compare the score of your validation and test set. For scoring, use metric SMAPE (code is in lecture). For prediction use 15 previous days median. In the google form write your validation score."
   ]
  },
  {
   "cell_type": "code",
   "execution_count": 5,
   "metadata": {},
   "outputs": [
    {
     "data": {
      "text/html": [
       "<div>\n",
       "<style>\n",
       "    .dataframe thead tr:only-child th {\n",
       "        text-align: right;\n",
       "    }\n",
       "\n",
       "    .dataframe thead th {\n",
       "        text-align: left;\n",
       "    }\n",
       "\n",
       "    .dataframe tbody tr th {\n",
       "        vertical-align: top;\n",
       "    }\n",
       "</style>\n",
       "<table border=\"1\" class=\"dataframe\">\n",
       "  <thead>\n",
       "    <tr style=\"text-align: right;\">\n",
       "      <th></th>\n",
       "      <th>Page</th>\n",
       "      <th>date</th>\n",
       "      <th>Visits</th>\n",
       "    </tr>\n",
       "  </thead>\n",
       "  <tbody>\n",
       "    <tr>\n",
       "      <th>612644</th>\n",
       "      <td>Neymar_es.wikipedia.org_mobile-web_all-agents</td>\n",
       "      <td>2016-02-21</td>\n",
       "      <td>2241.0</td>\n",
       "    </tr>\n",
       "    <tr>\n",
       "      <th>2279769</th>\n",
       "      <td>橋下徹_ja.wikipedia.org_all-access_all-agents</td>\n",
       "      <td>2016-07-11</td>\n",
       "      <td>6025.0</td>\n",
       "    </tr>\n",
       "    <tr>\n",
       "      <th>336277</th>\n",
       "      <td>Amanda_Nunes_en.wikipedia.org_all-access_all-a...</td>\n",
       "      <td>2016-01-29</td>\n",
       "      <td>680.0</td>\n",
       "    </tr>\n",
       "    <tr>\n",
       "      <th>2828473</th>\n",
       "      <td>Mount_Everest_en.wikipedia.org_all-access_all-...</td>\n",
       "      <td>2016-08-27</td>\n",
       "      <td>9296.0</td>\n",
       "    </tr>\n",
       "    <tr>\n",
       "      <th>1655745</th>\n",
       "      <td>Celine_Dion_en.wikipedia.org_desktop_all-agents</td>\n",
       "      <td>2016-05-20</td>\n",
       "      <td>4583.0</td>\n",
       "    </tr>\n",
       "  </tbody>\n",
       "</table>\n",
       "</div>"
      ],
      "text/plain": [
       "                                                      Page       date  Visits\n",
       "612644       Neymar_es.wikipedia.org_mobile-web_all-agents 2016-02-21  2241.0\n",
       "2279769         橋下徹_ja.wikipedia.org_all-access_all-agents 2016-07-11  6025.0\n",
       "336277   Amanda_Nunes_en.wikipedia.org_all-access_all-a... 2016-01-29   680.0\n",
       "2828473  Mount_Everest_en.wikipedia.org_all-access_all-... 2016-08-27  9296.0\n",
       "1655745    Celine_Dion_en.wikipedia.org_desktop_all-agents 2016-05-20  4583.0"
      ]
     },
     "execution_count": 5,
     "metadata": {},
     "output_type": "execute_result"
    }
   ],
   "source": [
    "train.sample(5)"
   ]
  },
  {
   "cell_type": "code",
   "execution_count": 6,
   "metadata": {},
   "outputs": [
    {
     "data": {
      "text/html": [
       "<div>\n",
       "<style>\n",
       "    .dataframe thead tr:only-child th {\n",
       "        text-align: right;\n",
       "    }\n",
       "\n",
       "    .dataframe thead th {\n",
       "        text-align: left;\n",
       "    }\n",
       "\n",
       "    .dataframe tbody tr th {\n",
       "        vertical-align: top;\n",
       "    }\n",
       "</style>\n",
       "<table border=\"1\" class=\"dataframe\">\n",
       "  <thead>\n",
       "    <tr style=\"text-align: right;\">\n",
       "      <th></th>\n",
       "      <th>Page</th>\n",
       "      <th>date</th>\n",
       "      <th>Visits</th>\n",
       "    </tr>\n",
       "  </thead>\n",
       "  <tbody>\n",
       "    <tr>\n",
       "      <th>374308</th>\n",
       "      <td>John_Legend_en.wikipedia.org_mobile-web_all-ag...</td>\n",
       "      <td>2016-10-11</td>\n",
       "      <td>3535.0</td>\n",
       "    </tr>\n",
       "    <tr>\n",
       "      <th>690895</th>\n",
       "      <td>Supreme_Court_of_the_United_States_en.wikipedi...</td>\n",
       "      <td>2016-11-07</td>\n",
       "      <td>10808.0</td>\n",
       "    </tr>\n",
       "    <tr>\n",
       "      <th>460720</th>\n",
       "      <td>YouTube_de.wikipedia.org_all-access_all-agents</td>\n",
       "      <td>2016-10-18</td>\n",
       "      <td>2027.0</td>\n",
       "    </tr>\n",
       "    <tr>\n",
       "      <th>677332</th>\n",
       "      <td>Taylor_Momsen_en.wikipedia.org_all-access_all-...</td>\n",
       "      <td>2016-11-06</td>\n",
       "      <td>5254.0</td>\n",
       "    </tr>\n",
       "    <tr>\n",
       "      <th>644693</th>\n",
       "      <td>Black_Panther_(comics)_en.wikipedia.org_mobile...</td>\n",
       "      <td>2016-11-03</td>\n",
       "      <td>2061.0</td>\n",
       "    </tr>\n",
       "  </tbody>\n",
       "</table>\n",
       "</div>"
      ],
      "text/plain": [
       "                                                     Page       date   Visits\n",
       "374308  John_Legend_en.wikipedia.org_mobile-web_all-ag... 2016-10-11   3535.0\n",
       "690895  Supreme_Court_of_the_United_States_en.wikipedi... 2016-11-07  10808.0\n",
       "460720     YouTube_de.wikipedia.org_all-access_all-agents 2016-10-18   2027.0\n",
       "677332  Taylor_Momsen_en.wikipedia.org_all-access_all-... 2016-11-06   5254.0\n",
       "644693  Black_Panther_(comics)_en.wikipedia.org_mobile... 2016-11-03   2061.0"
      ]
     },
     "execution_count": 6,
     "metadata": {},
     "output_type": "execute_result"
    }
   ],
   "source": [
    "test.sample(5)"
   ]
  },
  {
   "cell_type": "code",
   "execution_count": 7,
   "metadata": {},
   "outputs": [
    {
     "data": {
      "text/plain": [
       "Text(0.73,0.8,'Test')"
      ]
     },
     "execution_count": 7,
     "metadata": {},
     "output_type": "execute_result"
    },
    {
     "data": {
      "image/png": "[encoded data removed]",
      "text/plain": [
       "<matplotlib.figure.Figure at 0x112bf2390>"
      ]
     },
     "metadata": {},
     "output_type": "display_data"
    }
   ],
   "source": [
    "#vizualizing time period \n",
    "train_data = train.date.value_counts() * 0\n",
    "test_data = test.date.value_counts()\n",
    "all_data = pd.concat([train_data, test_data])\n",
    "\n",
    "fig, ax = calmap.calendarplot(all_data, fig_kws={\"figsize\":(15,4)}, fillcolor='#d0d8d6', cmap='Dark2')\n",
    "fig.text(x=0.32, y=0.8, s=\"Train\", fontsize=24, weight='bold', color='#676868')\n",
    "fig.text(x=0.73, y=0.8, s=\"Test\", fontsize=24, weight='bold', color='#676868')"
   ]
  },
  {
   "cell_type": "markdown",
   "metadata": {},
   "source": [
    "Test dataset consists of visits data by the next two month, which were unseen in the train dataset. Size of the test dataset is two month. Test dataset is balanced. So to create a holdout dataset we  should use last two month or time period simular to test in the train dataset "
   ]
  },
  {
   "cell_type": "code",
   "execution_count": 8,
   "metadata": {
    "collapsed": true
   },
   "outputs": [],
   "source": [
    "def train_test_split(df, start, finish):\n",
    "    train= df.loc[df.date < start]\n",
    "    test = df.loc[(df.date >= start)&\\\n",
    "                  (df.date <= finish)]\n",
    "    return train, test\n",
    "\n",
    "def smape_fast(y_true, y_pred):\n",
    "    out = 0\n",
    "    for i in range(y_true.shape[0]):\n",
    "        a = y_true.iloc[i]\n",
    "        b = y_pred[i]\n",
    "        if b < 1:\n",
    "            b = 0\n",
    "        c = a+b\n",
    "        if c == 0:\n",
    "            continue\n",
    "        out += math.fabs(a - b) / c\n",
    "    out *= (200.0 / y_true.shape[0])\n",
    "    return out\n",
    "\n",
    "def get_median_smape(train, test, n_days=15):\n",
    "    last_days_median = train[train['date'] > np.max(train['date']) - pd.Timedelta(days=n_days)].groupby('Page')['Visits'].median().reset_index()\n",
    "    last_days_median.rename(columns={\"Visits\": \"pred_Visits\"}, inplace=True)\n",
    "    y_pred_days = test.merge(last_days_median, on='Page', how='left').pred_Visits\n",
    "    return smape_fast(test.Visits, y_pred_days)"
   ]
  },
  {
   "cell_type": "code",
   "execution_count": null,
   "metadata": {
    "collapsed": true
   },
   "outputs": [],
   "source": [
    "#to saving structure of test dataset(number of weekends, which are very important(hw1)) - getting holdout by weeks \n",
    "#(by day of months give worse results (from 10 ..))\n",
    "start = test.date.min() - relativedelta( days=10 * 7)\n",
    "finish = test.date.max() - relativedelta(days=10 * 7+1)\n",
    "tmp_train, holdout = train_test_split(train, start, finish)\n",
    "\n",
    "#vizualizing periods \n",
    "total_data = pd.concat([tmp_train.date.value_counts() * 0 , holdout.date.value_counts() * 0.8 , test.date.value_counts()])\n",
    "fig, ax = calmap.calendarplot(total_data, fig_kws={\"figsize\":(15,4)}, fillcolor='#d0d8d6', cmap='Dark2')\n",
    "fig.text(x=0.54, y=0.8, s=\"Holdout\", fontsize=24, weight='bold', color='#676868')\n",
    "fig.text(x=0.73, y=0.8, s=\"Test\", fontsize=24, weight='bold', color='#676868')\n",
    "\n",
    "\n",
    "#comparrisson of smape error on test and holdout dataset \n",
    "smape_train_test = get_median_smape(train, test, 15)\n",
    "smape_trains_houldout = get_median_smape(tmp_train, holdout, 15)\n",
    "diff = fabs(smape_train_test - smape_trains_houldout)\n",
    "print(f\"SMAPE test {smape_train_test}\\nSMAPE holdout {smape_trains_houldout} \\nDiff {diff}\")\n"
   ]
  },
  {
   "cell_type": "code",
   "execution_count": 10,
   "metadata": {},
   "outputs": [
    {
     "name": "stdout",
     "output_type": "stream",
     "text": [
      "SMAPE test 40.00701270204617\n",
      "SMAPE holdout 39.52306683023146 \n",
      "Diff 0.4839458718147114\n"
     ]
    },
    {
     "data": {
      "image/png": "[encoded data removed]",
      "text/plain": [
       "<matplotlib.figure.Figure at 0x11889d898>"
      ]
     },
     "metadata": {},
     "output_type": "display_data"
    }
   ],
   "source": [
    "#to saving structure of test dataset(number of weekends, which are very important(hw1)) - getting holdout by weeks \n",
    "#(by day of months give worse results (from 10 ..))\n",
    "start = test.date.min() - relativedelta( days=9 * 7)\n",
    "finish = test.date.max() - relativedelta(days=10 * 7+1)\n",
    "tmp_train, holdout = train_test_split(train, start, finish)\n",
    "\n",
    "#vizualizing periods \n",
    "total_data = pd.concat([tmp_train.date.value_counts() * 0 , holdout.date.value_counts() * 0.8 , test.date.value_counts()])\n",
    "fig, ax = calmap.calendarplot(total_data, fig_kws={\"figsize\":(15,4)}, fillcolor='#d0d8d6', cmap='Dark2')\n",
    "fig.text(x=0.54, y=0.8, s=\"Holdout\", fontsize=24, weight='bold', color='#676868')\n",
    "fig.text(x=0.73, y=0.8, s=\"Test\", fontsize=24, weight='bold', color='#676868')\n",
    "\n",
    "\n",
    "#comparrisson of smape error on test and holdout dataset \n",
    "smape_train_test = get_median_smape(train, test, 15)\n",
    "smape_trains_houldout = get_median_smape(tmp_train, holdout, 15)\n",
    "diff = fabs(smape_train_test - smape_trains_houldout)\n",
    "print(f\"SMAPE test {smape_train_test}\\nSMAPE holdout {smape_trains_houldout} \\nDiff {diff}\")\n"
   ]
  },
  {
   "cell_type": "code",
   "execution_count": 11,
   "metadata": {},
   "outputs": [
    {
     "data": {
      "image/png": "[encoded data removed]",
      "text/plain": [
       "<matplotlib.figure.Figure at 0x1102ea5f8>"
      ]
     },
     "metadata": {},
     "output_type": "display_data"
    }
   ],
   "source": [
    "def get_valid_folf(df, start, finish):\n",
    "    test = df.loc[(df.date >= start)&(df.date <= finish)]\n",
    "    return  test.index\n",
    "\n",
    "\n",
    "#when try to save a gap between test and train \n",
    "start_v = test.date.min() - relativedelta(days=(10) * 7)\n",
    "finish_v = test.date.max() - relativedelta(days=(10 ) * 7 + 1)\n",
    "validation_indecis = get_valid_folf(train, start_v, finish_v)\n",
    "    \n",
    "#getting training fold\n",
    "start_tr = test.date.min() - relativedelta(days=(36 ) * 7 + 1)\n",
    "finish_tr = test.date.max() - relativedelta(days=(20 ) * 7 + 1)\n",
    "tmp_train_indices = get_valid_folf(train, start_tr, finish_tr)\n",
    "\n",
    "total_data = pd.concat([train.iloc[tmp_train_indices].date.value_counts() * 0 , \n",
    "                        train.iloc[validation_indecis].date.value_counts() * 0.8 , \n",
    "                        test.date.value_counts()])\n",
    "    \n",
    "fig, ax = calmap.calendarplot(total_data, fig_kws={\"figsize\":(15,4)}, fillcolor='#d0d8d6', cmap='Dark2')"
   ]
  },
  {
   "cell_type": "code",
   "execution_count": 12,
   "metadata": {},
   "outputs": [
    {
     "name": "stdout",
     "output_type": "stream",
     "text": [
      "SMAPE test 40.00701270204617\n",
      "SMAPE holdout 44.737722097768504 \n",
      "Diff 4.730709395722336\n"
     ]
    }
   ],
   "source": [
    "#comparrisson of smape error on test and holdout dataset \n",
    "smape_train_test = get_median_smape(train, test, 15)\n",
    "smape_trains_houldout = get_median_smape(train.iloc[tmp_train_indices], train.iloc[validation_indecis], 15)\n",
    "diff = fabs(smape_train_test - smape_trains_houldout)\n",
    "print(f\"SMAPE test {smape_train_test}\\nSMAPE holdout {smape_trains_houldout} \\nDiff {diff}\")\n",
    "#ne horosha sproba"
   ]
  },
  {
   "cell_type": "code",
   "execution_count": 21,
   "metadata": {},
   "outputs": [
    {
     "name": "stdout",
     "output_type": "stream",
     "text": [
      "CPU times: user 58min 17s, sys: 23.6 s, total: 58min 40s\n",
      "Wall time: 59min 12s\n"
     ]
    }
   ],
   "source": [
    "%%time\n",
    "n_weeks = np.arange(5, 11)\n",
    "C_medians = [1, 2, 3, 4, 5, 10, 15, 20, 25, 30, 60, 75] \n",
    "\n",
    "df = pd.DataFrame(index=n_weeks, columns=['Diff_if_m' + str(c) for c in C_medians] + ['sum', 'mean'])#dataframe for results\n",
    "\n",
    "def train_test_split(df, start):\n",
    "    train= df.loc[df.date < start]\n",
    "    test = df.loc[(df.date >= start)]\n",
    "    return train, test\n",
    "\n",
    "for n_w in range(1, 13):\n",
    "    start = test.date.min() - relativedelta(days=(n_w + 1) * 7)\n",
    "    tr, tst = train_test_split(train, start)\n",
    "    diffs = []\n",
    "    for m in C_medians:\n",
    "        smape_train_test = get_median_smape(train, test, m)\n",
    "        smape_trains_houldout = get_median_smape(tr, tst, m)\n",
    "        diff = fabs(smape_train_test - smape_trains_houldout)\n",
    "        diffs.append(diff)\n",
    "    df.loc[n_w] = diffs + [np.sum(diffs), np.mean(diffs)]#appending a record to df    "
   ]
  },
  {
   "cell_type": "code",
   "execution_count": 22,
   "metadata": {},
   "outputs": [
    {
     "data": {
      "text/html": [
       "<div>\n",
       "<style>\n",
       "    .dataframe thead tr:only-child th {\n",
       "        text-align: right;\n",
       "    }\n",
       "\n",
       "    .dataframe thead th {\n",
       "        text-align: left;\n",
       "    }\n",
       "\n",
       "    .dataframe tbody tr th {\n",
       "        vertical-align: top;\n",
       "    }\n",
       "</style>\n",
       "<table border=\"1\" class=\"dataframe\">\n",
       "  <thead>\n",
       "    <tr style=\"text-align: right;\">\n",
       "      <th></th>\n",
       "      <th>Diff_if_m1</th>\n",
       "      <th>Diff_if_m2</th>\n",
       "      <th>Diff_if_m3</th>\n",
       "      <th>Diff_if_m4</th>\n",
       "      <th>Diff_if_m5</th>\n",
       "      <th>Diff_if_m10</th>\n",
       "      <th>Diff_if_m15</th>\n",
       "      <th>Diff_if_m20</th>\n",
       "      <th>Diff_if_m25</th>\n",
       "      <th>Diff_if_m30</th>\n",
       "      <th>Diff_if_m60</th>\n",
       "      <th>Diff_if_m75</th>\n",
       "      <th>sum</th>\n",
       "      <th>mean</th>\n",
       "    </tr>\n",
       "  </thead>\n",
       "  <tbody>\n",
       "    <tr>\n",
       "      <th>5</th>\n",
       "      <td>6.473617</td>\n",
       "      <td>7.195789</td>\n",
       "      <td>7.266902</td>\n",
       "      <td>7.547180</td>\n",
       "      <td>7.361199</td>\n",
       "      <td>6.270145</td>\n",
       "      <td>6.500043</td>\n",
       "      <td>6.814556</td>\n",
       "      <td>6.604935</td>\n",
       "      <td>6.056776</td>\n",
       "      <td>2.738556</td>\n",
       "      <td>2.013876</td>\n",
       "      <td>72.843574</td>\n",
       "      <td>6.070298</td>\n",
       "    </tr>\n",
       "    <tr>\n",
       "      <th>6</th>\n",
       "      <td>4.760839</td>\n",
       "      <td>5.648542</td>\n",
       "      <td>5.963389</td>\n",
       "      <td>6.420192</td>\n",
       "      <td>6.339924</td>\n",
       "      <td>5.247330</td>\n",
       "      <td>5.018830</td>\n",
       "      <td>4.583994</td>\n",
       "      <td>4.061766</td>\n",
       "      <td>3.621188</td>\n",
       "      <td>1.217163</td>\n",
       "      <td>0.303863</td>\n",
       "      <td>53.187021</td>\n",
       "      <td>4.432252</td>\n",
       "    </tr>\n",
       "    <tr>\n",
       "      <th>7</th>\n",
       "      <td>4.181350</td>\n",
       "      <td>4.482958</td>\n",
       "      <td>4.316471</td>\n",
       "      <td>4.568554</td>\n",
       "      <td>4.388633</td>\n",
       "      <td>2.279987</td>\n",
       "      <td>2.178301</td>\n",
       "      <td>2.137970</td>\n",
       "      <td>1.922712</td>\n",
       "      <td>1.724652</td>\n",
       "      <td>0.337390</td>\n",
       "      <td>1.309087</td>\n",
       "      <td>33.828064</td>\n",
       "      <td>2.819005</td>\n",
       "    </tr>\n",
       "    <tr>\n",
       "      <th>8</th>\n",
       "      <td>1.315469</td>\n",
       "      <td>1.513052</td>\n",
       "      <td>1.660286</td>\n",
       "      <td>1.999158</td>\n",
       "      <td>1.900123</td>\n",
       "      <td>0.546051</td>\n",
       "      <td>0.483946</td>\n",
       "      <td>0.780714</td>\n",
       "      <td>0.472182</td>\n",
       "      <td>0.206344</td>\n",
       "      <td>1.642125</td>\n",
       "      <td>2.601204</td>\n",
       "      <td>15.120654</td>\n",
       "      <td>1.260054</td>\n",
       "    </tr>\n",
       "    <tr>\n",
       "      <th>9</th>\n",
       "      <td>0.021984</td>\n",
       "      <td>0.594443</td>\n",
       "      <td>0.446070</td>\n",
       "      <td>0.441068</td>\n",
       "      <td>0.113256</td>\n",
       "      <td>1.054451</td>\n",
       "      <td>0.725421</td>\n",
       "      <td>0.814373</td>\n",
       "      <td>0.811432</td>\n",
       "      <td>0.732582</td>\n",
       "      <td>2.836184</td>\n",
       "      <td>3.597006</td>\n",
       "      <td>12.188270</td>\n",
       "      <td>1.015689</td>\n",
       "    </tr>\n",
       "    <tr>\n",
       "      <th>10</th>\n",
       "      <td>1.943856</td>\n",
       "      <td>1.562457</td>\n",
       "      <td>1.487073</td>\n",
       "      <td>1.301628</td>\n",
       "      <td>1.283911</td>\n",
       "      <td>2.322818</td>\n",
       "      <td>2.251546</td>\n",
       "      <td>1.903496</td>\n",
       "      <td>1.860864</td>\n",
       "      <td>1.770617</td>\n",
       "      <td>3.984015</td>\n",
       "      <td>4.538398</td>\n",
       "      <td>26.210678</td>\n",
       "      <td>2.184223</td>\n",
       "    </tr>\n",
       "    <tr>\n",
       "      <th>1</th>\n",
       "      <td>15.522951</td>\n",
       "      <td>15.950129</td>\n",
       "      <td>15.385420</td>\n",
       "      <td>15.681525</td>\n",
       "      <td>15.389581</td>\n",
       "      <td>12.102293</td>\n",
       "      <td>11.362913</td>\n",
       "      <td>11.054896</td>\n",
       "      <td>10.934012</td>\n",
       "      <td>10.831189</td>\n",
       "      <td>10.165799</td>\n",
       "      <td>9.130901</td>\n",
       "      <td>153.511609</td>\n",
       "      <td>12.792634</td>\n",
       "    </tr>\n",
       "    <tr>\n",
       "      <th>2</th>\n",
       "      <td>11.275087</td>\n",
       "      <td>12.224322</td>\n",
       "      <td>12.026653</td>\n",
       "      <td>12.543231</td>\n",
       "      <td>12.578152</td>\n",
       "      <td>10.683618</td>\n",
       "      <td>10.701645</td>\n",
       "      <td>11.353361</td>\n",
       "      <td>11.133933</td>\n",
       "      <td>10.691796</td>\n",
       "      <td>8.979857</td>\n",
       "      <td>7.376453</td>\n",
       "      <td>131.568108</td>\n",
       "      <td>10.964009</td>\n",
       "    </tr>\n",
       "    <tr>\n",
       "      <th>3</th>\n",
       "      <td>10.189548</td>\n",
       "      <td>11.323488</td>\n",
       "      <td>11.499939</td>\n",
       "      <td>11.787668</td>\n",
       "      <td>11.603066</td>\n",
       "      <td>10.406013</td>\n",
       "      <td>10.240687</td>\n",
       "      <td>9.970965</td>\n",
       "      <td>9.269973</td>\n",
       "      <td>9.081841</td>\n",
       "      <td>6.257905</td>\n",
       "      <td>5.178802</td>\n",
       "      <td>116.809896</td>\n",
       "      <td>9.734158</td>\n",
       "    </tr>\n",
       "    <tr>\n",
       "      <th>4</th>\n",
       "      <td>8.786395</td>\n",
       "      <td>9.463694</td>\n",
       "      <td>9.807018</td>\n",
       "      <td>10.146943</td>\n",
       "      <td>9.926594</td>\n",
       "      <td>7.706004</td>\n",
       "      <td>7.322420</td>\n",
       "      <td>7.583731</td>\n",
       "      <td>7.474991</td>\n",
       "      <td>7.230391</td>\n",
       "      <td>4.029628</td>\n",
       "      <td>3.222156</td>\n",
       "      <td>92.699966</td>\n",
       "      <td>7.724997</td>\n",
       "    </tr>\n",
       "    <tr>\n",
       "      <th>11</th>\n",
       "      <td>2.497401</td>\n",
       "      <td>2.867811</td>\n",
       "      <td>3.145134</td>\n",
       "      <td>3.435399</td>\n",
       "      <td>3.538792</td>\n",
       "      <td>4.015250</td>\n",
       "      <td>3.221219</td>\n",
       "      <td>2.982821</td>\n",
       "      <td>3.071200</td>\n",
       "      <td>3.287709</td>\n",
       "      <td>4.923005</td>\n",
       "      <td>5.442813</td>\n",
       "      <td>42.428552</td>\n",
       "      <td>3.535713</td>\n",
       "    </tr>\n",
       "    <tr>\n",
       "      <th>12</th>\n",
       "      <td>3.502970</td>\n",
       "      <td>3.769034</td>\n",
       "      <td>3.793252</td>\n",
       "      <td>3.806777</td>\n",
       "      <td>3.835933</td>\n",
       "      <td>4.656530</td>\n",
       "      <td>4.236053</td>\n",
       "      <td>4.298443</td>\n",
       "      <td>4.549701</td>\n",
       "      <td>4.532086</td>\n",
       "      <td>5.661326</td>\n",
       "      <td>5.899937</td>\n",
       "      <td>52.542041</td>\n",
       "      <td>4.378503</td>\n",
       "    </tr>\n",
       "  </tbody>\n",
       "</table>\n",
       "</div>"
      ],
      "text/plain": [
       "    Diff_if_m1  Diff_if_m2  Diff_if_m3  Diff_if_m4  Diff_if_m5  Diff_if_m10  \\\n",
       "5     6.473617    7.195789    7.266902    7.547180    7.361199     6.270145   \n",
       "6     4.760839    5.648542    5.963389    6.420192    6.339924     5.247330   \n",
       "7     4.181350    4.482958    4.316471    4.568554    4.388633     2.279987   \n",
       "8     1.315469    1.513052    1.660286    1.999158    1.900123     0.546051   \n",
       "9     0.021984    0.594443    0.446070    0.441068    0.113256     1.054451   \n",
       "10    1.943856    1.562457    1.487073    1.301628    1.283911     2.322818   \n",
       "1    15.522951   15.950129   15.385420   15.681525   15.389581    12.102293   \n",
       "2    11.275087   12.224322   12.026653   12.543231   12.578152    10.683618   \n",
       "3    10.189548   11.323488   11.499939   11.787668   11.603066    10.406013   \n",
       "4     8.786395    9.463694    9.807018   10.146943    9.926594     7.706004   \n",
       "11    2.497401    2.867811    3.145134    3.435399    3.538792     4.015250   \n",
       "12    3.502970    3.769034    3.793252    3.806777    3.835933     4.656530   \n",
       "\n",
       "    Diff_if_m15  Diff_if_m20  Diff_if_m25  Diff_if_m30  Diff_if_m60  \\\n",
       "5      6.500043     6.814556     6.604935     6.056776     2.738556   \n",
       "6      5.018830     4.583994     4.061766     3.621188     1.217163   \n",
       "7      2.178301     2.137970     1.922712     1.724652     0.337390   \n",
       "8      0.483946     0.780714     0.472182     0.206344     1.642125   \n",
       "9      0.725421     0.814373     0.811432     0.732582     2.836184   \n",
       "10     2.251546     1.903496     1.860864     1.770617     3.984015   \n",
       "1     11.362913    11.054896    10.934012    10.831189    10.165799   \n",
       "2     10.701645    11.353361    11.133933    10.691796     8.979857   \n",
       "3     10.240687     9.970965     9.269973     9.081841     6.257905   \n",
       "4      7.322420     7.583731     7.474991     7.230391     4.029628   \n",
       "11     3.221219     2.982821     3.071200     3.287709     4.923005   \n",
       "12     4.236053     4.298443     4.549701     4.532086     5.661326   \n",
       "\n",
       "    Diff_if_m75         sum       mean  \n",
       "5      2.013876   72.843574   6.070298  \n",
       "6      0.303863   53.187021   4.432252  \n",
       "7      1.309087   33.828064   2.819005  \n",
       "8      2.601204   15.120654   1.260054  \n",
       "9      3.597006   12.188270   1.015689  \n",
       "10     4.538398   26.210678   2.184223  \n",
       "1      9.130901  153.511609  12.792634  \n",
       "2      7.376453  131.568108  10.964009  \n",
       "3      5.178802  116.809896   9.734158  \n",
       "4      3.222156   92.699966   7.724997  \n",
       "11     5.442813   42.428552   3.535713  \n",
       "12     5.899937   52.542041   4.378503  "
      ]
     },
     "execution_count": 22,
     "metadata": {},
     "output_type": "execute_result"
    }
   ],
   "source": [
    "df "
   ]
  },
  {
   "cell_type": "code",
   "execution_count": 13,
   "metadata": {},
   "outputs": [
    {
     "name": "stdout",
     "output_type": "stream",
     "text": [
      "CPU times: user 51min 36s, sys: 29 s, total: 52min 5s\n",
      "Wall time: 53min 26s\n"
     ]
    }
   ],
   "source": [
    "%%time\n",
    "n_weeks = np.arange(5, 11)\n",
    "C_medians = range(11, 30, 2) \n",
    "\n",
    "df = pd.DataFrame(index=n_weeks, columns=['Diff_if_m' + str(c) for c in C_medians] + ['sum', 'mean'])#dataframe for results\n",
    "\n",
    "def train_test_split(df, start):\n",
    "    train= df.loc[df.date < start]\n",
    "    test = df.loc[(df.date >= start)]\n",
    "    return train, test\n",
    "\n",
    "for n_w in range(1, 13):\n",
    "    start = test.date.min() - relativedelta(days=(n_w + 1) * 7)\n",
    "    tr, tst = train_test_split(train, start)\n",
    "    diffs = []\n",
    "    for m in C_medians:\n",
    "        smape_train_test = get_median_smape(train, test, m)\n",
    "        smape_trains_houldout = get_median_smape(tr, tst, m)\n",
    "        diff = fabs(smape_train_test - smape_trains_houldout)\n",
    "        diffs.append(diff)\n",
    "    df.loc[n_w] = diffs + [np.sum(diffs), np.mean(diffs)]#appending a record to df    "
   ]
  },
  {
   "cell_type": "code",
   "execution_count": 14,
   "metadata": {},
   "outputs": [
    {
     "data": {
      "text/html": [
       "<div>\n",
       "<style>\n",
       "    .dataframe thead tr:only-child th {\n",
       "        text-align: right;\n",
       "    }\n",
       "\n",
       "    .dataframe thead th {\n",
       "        text-align: left;\n",
       "    }\n",
       "\n",
       "    .dataframe tbody tr th {\n",
       "        vertical-align: top;\n",
       "    }\n",
       "</style>\n",
       "<table border=\"1\" class=\"dataframe\">\n",
       "  <thead>\n",
       "    <tr style=\"text-align: right;\">\n",
       "      <th></th>\n",
       "      <th>Diff_if_m11</th>\n",
       "      <th>Diff_if_m13</th>\n",
       "      <th>Diff_if_m15</th>\n",
       "      <th>Diff_if_m17</th>\n",
       "      <th>Diff_if_m19</th>\n",
       "      <th>Diff_if_m21</th>\n",
       "      <th>Diff_if_m23</th>\n",
       "      <th>Diff_if_m25</th>\n",
       "      <th>Diff_if_m27</th>\n",
       "      <th>Diff_if_m29</th>\n",
       "      <th>sum</th>\n",
       "      <th>mean</th>\n",
       "    </tr>\n",
       "  </thead>\n",
       "  <tbody>\n",
       "    <tr>\n",
       "      <th>5</th>\n",
       "      <td>6.379920</td>\n",
       "      <td>6.491180</td>\n",
       "      <td>6.500043</td>\n",
       "      <td>6.720510</td>\n",
       "      <td>6.840609</td>\n",
       "      <td>6.730217</td>\n",
       "      <td>6.584259</td>\n",
       "      <td>6.604935</td>\n",
       "      <td>6.538315</td>\n",
       "      <td>6.234638</td>\n",
       "      <td>65.624627</td>\n",
       "      <td>6.562463</td>\n",
       "    </tr>\n",
       "    <tr>\n",
       "      <th>6</th>\n",
       "      <td>5.277249</td>\n",
       "      <td>5.231098</td>\n",
       "      <td>5.018830</td>\n",
       "      <td>4.883314</td>\n",
       "      <td>4.821187</td>\n",
       "      <td>4.344222</td>\n",
       "      <td>4.096711</td>\n",
       "      <td>4.061766</td>\n",
       "      <td>3.924705</td>\n",
       "      <td>3.711319</td>\n",
       "      <td>45.370401</td>\n",
       "      <td>4.537040</td>\n",
       "    </tr>\n",
       "    <tr>\n",
       "      <th>7</th>\n",
       "      <td>2.434502</td>\n",
       "      <td>2.295619</td>\n",
       "      <td>2.178301</td>\n",
       "      <td>2.273773</td>\n",
       "      <td>2.276391</td>\n",
       "      <td>2.033444</td>\n",
       "      <td>1.946380</td>\n",
       "      <td>1.922712</td>\n",
       "      <td>1.933528</td>\n",
       "      <td>1.807518</td>\n",
       "      <td>21.102168</td>\n",
       "      <td>2.110217</td>\n",
       "    </tr>\n",
       "    <tr>\n",
       "      <th>8</th>\n",
       "      <td>0.545699</td>\n",
       "      <td>0.417094</td>\n",
       "      <td>0.483946</td>\n",
       "      <td>0.600512</td>\n",
       "      <td>0.752162</td>\n",
       "      <td>0.786002</td>\n",
       "      <td>0.599188</td>\n",
       "      <td>0.472182</td>\n",
       "      <td>0.366614</td>\n",
       "      <td>0.224731</td>\n",
       "      <td>5.248130</td>\n",
       "      <td>0.524813</td>\n",
       "    </tr>\n",
       "    <tr>\n",
       "      <th>9</th>\n",
       "      <td>0.996238</td>\n",
       "      <td>0.824056</td>\n",
       "      <td>0.725421</td>\n",
       "      <td>0.704799</td>\n",
       "      <td>0.801310</td>\n",
       "      <td>0.767257</td>\n",
       "      <td>0.850250</td>\n",
       "      <td>0.811432</td>\n",
       "      <td>0.701464</td>\n",
       "      <td>0.690193</td>\n",
       "      <td>7.872419</td>\n",
       "      <td>0.787242</td>\n",
       "    </tr>\n",
       "    <tr>\n",
       "      <th>10</th>\n",
       "      <td>2.515634</td>\n",
       "      <td>2.491228</td>\n",
       "      <td>2.251546</td>\n",
       "      <td>2.100752</td>\n",
       "      <td>2.024580</td>\n",
       "      <td>1.731158</td>\n",
       "      <td>1.821280</td>\n",
       "      <td>1.860864</td>\n",
       "      <td>1.710232</td>\n",
       "      <td>1.645367</td>\n",
       "      <td>20.152641</td>\n",
       "      <td>2.015264</td>\n",
       "    </tr>\n",
       "    <tr>\n",
       "      <th>1</th>\n",
       "      <td>11.743201</td>\n",
       "      <td>11.704799</td>\n",
       "      <td>11.362913</td>\n",
       "      <td>11.112610</td>\n",
       "      <td>11.101530</td>\n",
       "      <td>10.950171</td>\n",
       "      <td>10.789825</td>\n",
       "      <td>10.934012</td>\n",
       "      <td>11.066320</td>\n",
       "      <td>10.899814</td>\n",
       "      <td>111.665195</td>\n",
       "      <td>11.166519</td>\n",
       "    </tr>\n",
       "    <tr>\n",
       "      <th>2</th>\n",
       "      <td>10.761590</td>\n",
       "      <td>10.802617</td>\n",
       "      <td>10.701645</td>\n",
       "      <td>10.930448</td>\n",
       "      <td>11.296613</td>\n",
       "      <td>11.314639</td>\n",
       "      <td>11.157610</td>\n",
       "      <td>11.133933</td>\n",
       "      <td>11.072949</td>\n",
       "      <td>10.760248</td>\n",
       "      <td>109.932292</td>\n",
       "      <td>10.993229</td>\n",
       "    </tr>\n",
       "    <tr>\n",
       "      <th>3</th>\n",
       "      <td>10.502162</td>\n",
       "      <td>10.596612</td>\n",
       "      <td>10.240687</td>\n",
       "      <td>10.117927</td>\n",
       "      <td>10.109587</td>\n",
       "      <td>9.821210</td>\n",
       "      <td>9.462309</td>\n",
       "      <td>9.269973</td>\n",
       "      <td>9.251469</td>\n",
       "      <td>9.088604</td>\n",
       "      <td>98.460540</td>\n",
       "      <td>9.846054</td>\n",
       "    </tr>\n",
       "    <tr>\n",
       "      <th>4</th>\n",
       "      <td>7.595773</td>\n",
       "      <td>7.453988</td>\n",
       "      <td>7.322420</td>\n",
       "      <td>7.476474</td>\n",
       "      <td>7.654900</td>\n",
       "      <td>7.553532</td>\n",
       "      <td>7.488104</td>\n",
       "      <td>7.474991</td>\n",
       "      <td>7.482677</td>\n",
       "      <td>7.283638</td>\n",
       "      <td>74.786496</td>\n",
       "      <td>7.478650</td>\n",
       "    </tr>\n",
       "    <tr>\n",
       "      <th>11</th>\n",
       "      <td>4.010017</td>\n",
       "      <td>3.640219</td>\n",
       "      <td>3.221219</td>\n",
       "      <td>3.182797</td>\n",
       "      <td>3.105136</td>\n",
       "      <td>2.825614</td>\n",
       "      <td>2.858693</td>\n",
       "      <td>3.071200</td>\n",
       "      <td>3.113000</td>\n",
       "      <td>3.122097</td>\n",
       "      <td>32.149993</td>\n",
       "      <td>3.214999</td>\n",
       "    </tr>\n",
       "    <tr>\n",
       "      <th>12</th>\n",
       "      <td>4.773186</td>\n",
       "      <td>4.625942</td>\n",
       "      <td>4.236053</td>\n",
       "      <td>4.236826</td>\n",
       "      <td>4.332889</td>\n",
       "      <td>4.216286</td>\n",
       "      <td>4.381900</td>\n",
       "      <td>4.549701</td>\n",
       "      <td>4.520462</td>\n",
       "      <td>4.440348</td>\n",
       "      <td>44.313592</td>\n",
       "      <td>4.431359</td>\n",
       "    </tr>\n",
       "  </tbody>\n",
       "</table>\n",
       "</div>"
      ],
      "text/plain": [
       "    Diff_if_m11  Diff_if_m13  Diff_if_m15  Diff_if_m17  Diff_if_m19  \\\n",
       "5      6.379920     6.491180     6.500043     6.720510     6.840609   \n",
       "6      5.277249     5.231098     5.018830     4.883314     4.821187   \n",
       "7      2.434502     2.295619     2.178301     2.273773     2.276391   \n",
       "8      0.545699     0.417094     0.483946     0.600512     0.752162   \n",
       "9      0.996238     0.824056     0.725421     0.704799     0.801310   \n",
       "10     2.515634     2.491228     2.251546     2.100752     2.024580   \n",
       "1     11.743201    11.704799    11.362913    11.112610    11.101530   \n",
       "2     10.761590    10.802617    10.701645    10.930448    11.296613   \n",
       "3     10.502162    10.596612    10.240687    10.117927    10.109587   \n",
       "4      7.595773     7.453988     7.322420     7.476474     7.654900   \n",
       "11     4.010017     3.640219     3.221219     3.182797     3.105136   \n",
       "12     4.773186     4.625942     4.236053     4.236826     4.332889   \n",
       "\n",
       "    Diff_if_m21  Diff_if_m23  Diff_if_m25  Diff_if_m27  Diff_if_m29  \\\n",
       "5      6.730217     6.584259     6.604935     6.538315     6.234638   \n",
       "6      4.344222     4.096711     4.061766     3.924705     3.711319   \n",
       "7      2.033444     1.946380     1.922712     1.933528     1.807518   \n",
       "8      0.786002     0.599188     0.472182     0.366614     0.224731   \n",
       "9      0.767257     0.850250     0.811432     0.701464     0.690193   \n",
       "10     1.731158     1.821280     1.860864     1.710232     1.645367   \n",
       "1     10.950171    10.789825    10.934012    11.066320    10.899814   \n",
       "2     11.314639    11.157610    11.133933    11.072949    10.760248   \n",
       "3      9.821210     9.462309     9.269973     9.251469     9.088604   \n",
       "4      7.553532     7.488104     7.474991     7.482677     7.283638   \n",
       "11     2.825614     2.858693     3.071200     3.113000     3.122097   \n",
       "12     4.216286     4.381900     4.549701     4.520462     4.440348   \n",
       "\n",
       "           sum       mean  \n",
       "5    65.624627   6.562463  \n",
       "6    45.370401   4.537040  \n",
       "7    21.102168   2.110217  \n",
       "8     5.248130   0.524813  \n",
       "9     7.872419   0.787242  \n",
       "10   20.152641   2.015264  \n",
       "1   111.665195  11.166519  \n",
       "2   109.932292  10.993229  \n",
       "3    98.460540   9.846054  \n",
       "4    74.786496   7.478650  \n",
       "11   32.149993   3.214999  \n",
       "12   44.313592   4.431359  "
      ]
     },
     "execution_count": 14,
     "metadata": {},
     "output_type": "execute_result"
    }
   ],
   "source": [
    "df"
   ]
  },
  {
   "cell_type": "code",
   "execution_count": null,
   "metadata": {
    "collapsed": true
   },
   "outputs": [],
   "source": [
    "# best holdout size ~ 8 - 9 month "
   ]
  },
  {
   "cell_type": "code",
   "execution_count": null,
   "metadata": {
    "collapsed": true
   },
   "outputs": [],
   "source": []
  },
  {
   "cell_type": "code",
   "execution_count": 220,
   "metadata": {
    "collapsed": true
   },
   "outputs": [],
   "source": [
    "def train_test_split(df, n_months=2):\n",
    "    train= df.loc[df.date < df.date.max() - relativedelta(months=1+n_months) + relativedelta(days = 10)]\n",
    "    test = df.loc[(df.date >= df.date.max() - relativedelta(months=1+n_months) + relativedelta(days = 10))&\\\n",
    "                  (df.date <= df.date.max() - relativedelta(months=1) + relativedelta(days = 10))]\n",
    "    return train, test\n",
    "\n",
    "def train_test_split_(df):\n",
    "    train= df.loc[df.date <= df.date.max() - relativedelta(months=2)]\n",
    "    test = df.loc[df.date > df.date.max() - relativedelta(months=2)]\n",
    "    return train, test\n"
   ]
  },
  {
   "cell_type": "code",
   "execution_count": 212,
   "metadata": {
    "collapsed": true
   },
   "outputs": [],
   "source": [
    "tr, tst = train_test_split(train)"
   ]
  },
  {
   "cell_type": "code",
   "execution_count": 18,
   "metadata": {
    "collapsed": true
   },
   "outputs": [],
   "source": [
    "def smape_fast(y_true, y_pred):\n",
    "    out = 0\n",
    "    for i in range(y_true.shape[0]):\n",
    "        a = y_true.iloc[i]\n",
    "        b = y_pred[i]\n",
    "        if b < 1:\n",
    "            b = 0\n",
    "        c = a+b\n",
    "        if c == 0:\n",
    "            continue\n",
    "        out += math.fabs(a - b) / c\n",
    "    out *= (200.0 / y_true.shape[0])\n",
    "    return out\n",
    "\n",
    "def get_median_smape(train, test, n_days=15):\n",
    "    last_days_median = train[train['date'] > np.max(train['date']) - pd.Timedelta(days=n_days)].groupby('Page')['Visits'].median().reset_index()\n",
    "    last_days_median.rename(columns={\"Visits\": \"pred_Visits\"}, inplace=True)\n",
    "    y_pred_days = test.merge(last_days_median, on='Page', how='left').pred_Visits\n",
    "    return smape_fast(test.Visits, y_pred_days)\n",
    "\n",
    "def train_test_split(df, test_size):\n",
    "    train= df.loc[df.date <= df.date.max() - test_size]\n",
    "    test = df.loc[df.date > df.date.max() - test_size]\n",
    "    return train, test\n",
    "\n",
    "def get_score(train, test, holdout_size, n_median=15):\n",
    "    train_s, holdout_s = train_test_split(train, holdout_size)\n",
    "    smape_train_test = get_median_smape(train, test, n_median)\n",
    "    smape_trains_houldout = get_median_smape(train_s, holdout_s, n_median)\n",
    "    diff = fabs(smape_train_test - smape_trains_houldout)\n",
    "  # print(f\"SMAPE test {smape_train_test}\\nSMAPE holdout {smape_trains_houldout} \\nDiff {diff}\")\n",
    "    return smape_train_test, smape_trains_houldout, diff\n"
   ]
  },
  {
   "cell_type": "markdown",
   "metadata": {
    "collapsed": true
   },
   "source": [
    "**3.** Perform K-fold validation using your type of split. Run GridSearch with any classificator you like and set of parameters to optimize, providing it with your custom validation.  Compare the score of your validation and test set. For scoring, again, use metrics SMAPE. In the google form write your scores on validation and test sets"
   ]
  },
  {
   "cell_type": "code",
   "execution_count": 21,
   "metadata": {},
   "outputs": [
    {
     "data": {
      "image/png": "[encoded data removed]",
      "text/plain": [
       "<matplotlib.figure.Figure at 0x119355400>"
      ]
     },
     "metadata": {},
     "output_type": "display_data"
    },
    {
     "data": {
      "image/png": "[encoded data removed]",
      "text/plain": [
       "<matplotlib.figure.Figure at 0x115434d30>"
      ]
     },
     "metadata": {},
     "output_type": "display_data"
    },
    {
     "data": {
      "image/png": "[encoded data removed]",
      "text/plain": [
       "<matplotlib.figure.Figure at 0x118072898>"
      ]
     },
     "metadata": {},
     "output_type": "display_data"
    }
   ],
   "source": [
    "Time3KF = [] # custon CVIterator\n",
    "m = 4  #4 weeks = size of shifting \n",
    "\n",
    "def get_valid_folf(df, start, finish):\n",
    "    test = df.loc[(df.date >= start)&(df.date <= finish)]\n",
    "    return  test.index\n",
    "\n",
    "for k in range(3):\n",
    "    #getting validation fold\n",
    "    start_v = test.date.min() - relativedelta(days=(10 + m * k) * 7)\n",
    "    finish_v = test.date.max() - relativedelta(days=(10 + m * k) * 7 + 1)\n",
    "    validation_indecis = get_valid_folf(train, start_v, finish_v)\n",
    "    \n",
    "    #getting training fold\n",
    "    start_tr = test.date.min() - relativedelta(days=(28 + m * k) * 7 + 1)\n",
    "    finish_tr = test.date.max() - relativedelta(days=(18 + m * k) * 7 - 1)\n",
    "    tmp_train_indices = get_valid_folf(train, start_tr, finish_tr)\n",
    "    \n",
    "    #adding train_validation to custom CVIterator \n",
    "    Time3KF.append((tmp_train_indices, validation_indecis ))\n",
    "\n",
    "    #vizualizing data which we use in validation\n",
    "    total_data = pd.concat([train.iloc[tmp_train_indices].date.value_counts() * 0 , \n",
    "                            train.iloc[validation_indecis].date.value_counts() * 0.8 , \n",
    "                            test.date.value_counts()])\n",
    "    \n",
    "    fig, ax = calmap.calendarplot(total_data, fig_kws={\"figsize\":(15,4)}, fillcolor='#d0d8d6', cmap='Dark2')"
   ]
  },
  {
   "cell_type": "code",
   "execution_count": 30,
   "metadata": {},
   "outputs": [
    {
     "name": "stdout",
     "output_type": "stream",
     "text": [
      "train: 2016-01-01 - 2016-02-29    validation:  2016-03-01 - 2016-04-30\n",
      "train: 2016-02-01 - 2016-03-31    validation:  2016-04-01 - 2016-05-31\n",
      "train: 2016-03-01 - 2016-04-30    validation:  2016-05-01 - 2016-06-30\n",
      "train: 2016-04-01 - 2016-05-31    validation:  2016-06-01 - 2016-07-31\n",
      "train: 2016-05-01 - 2016-06-30    validation:  2016-07-01 - 2016-08-31\n"
     ]
    },
    {
     "data": {
      "image/png": "[encoded data removed]",
      "text/plain": [
       "<matplotlib.figure.Figure at 0x1193b9da0>"
      ]
     },
     "metadata": {},
     "output_type": "display_data"
    },
    {
     "data": {
      "image/png": "[encoded data removed]",
      "text/plain": [
       "<matplotlib.figure.Figure at 0x11951e390>"
      ]
     },
     "metadata": {},
     "output_type": "display_data"
    },
    {
     "data": {
      "image/png": "[encoded data removed]",
      "text/plain": [
       "<matplotlib.figure.Figure at 0x1162270f0>"
      ]
     },
     "metadata": {},
     "output_type": "display_data"
    },
    {
     "data": {
      "image/png": "[encoded data removed]",
      "text/plain": [
       "<matplotlib.figure.Figure at 0x1152d8fd0>"
      ]
     },
     "metadata": {},
     "output_type": "display_data"
    },
    {
     "data": {
      "image/png": "[encoded data removed]",
      "text/plain": [
       "<matplotlib.figure.Figure at 0x11951c470>"
      ]
     },
     "metadata": {},
     "output_type": "display_data"
    }
   ],
   "source": [
    "#not correct ideological(size of train is changing,)\n",
    "#but gives the most stable and the closest results to test dataset (?????)\n",
    "\n",
    "#my KFold Validation k = 4 , 2month\n",
    "def create_KFvalidation(df, default_month):\n",
    "    return df.loc[(df[\"date\"] < pd.to_datetime(default_month))&(df['date']> pd.to_datetime(default_month)-relativedelta(months=2, days=1))].index,\\\n",
    "           df.loc[(df[\"date\"] >= pd.to_datetime(default_month)) &\\\n",
    "                  (df[\"date\"] < pd.to_datetime(default_month)+ relativedelta(months=2))].index #validation inices\n",
    "    \n",
    "train_dates = ['2016-03-01', '2016-04-01','2016-05-01','2016-06-01', '2016-07-01']\n",
    "KFold = [create_KFvalidation(train, i) for i in train_dates]\n",
    "\n",
    "\n",
    "\n",
    "#just for understanding what data do we use in validation \n",
    "for train_validation in KFold:\n",
    "    print( \"train: {} - {}    validation:  {} - {}\"\\\n",
    "         .format(train.loc[train_validation[0], 'date'].min().strftime('%Y-%m-%d %H:%M:%S')[:10],\n",
    "                 train.loc[train_validation[0], 'date'].max().strftime('%Y-%m-%d %H:%M:%S')[:10],\n",
    "                 train.loc[train_validation[1], 'date'].min().strftime('%Y-%m-%d %H:%M:%S')[:10],\n",
    "                 train.loc[train_validation[1], 'date'].max().strftime('%Y-%m-%d %H:%M:%S')[:10]))\n",
    "    \n",
    "#vizualising what data do we use in validation     \n",
    "for train_validation in KFold:\n",
    "    total_data = pd.concat([train.iloc[train_validation[0]].date.value_counts() * 0 , \n",
    "                            train.iloc[train_validation[1]].date.value_counts() * 0.8 , \n",
    "                            test.date.value_counts()])\n",
    "\n",
    "    fig, ax = calmap.calendarplot(total_data, fig_kws={\"figsize\":(15,4)}, fillcolor='#d0d8d6', cmap='Dark2')\n",
    "    "
   ]
  },
  {
   "cell_type": "code",
   "execution_count": 22,
   "metadata": {},
   "outputs": [
    {
     "data": {
      "image/png": "[encoded data removed]",
      "text/plain": [
       "<matplotlib.figure.Figure at 0x1102e6630>"
      ]
     },
     "metadata": {},
     "output_type": "display_data"
    },
    {
     "data": {
      "image/png": "[encoded data removed]",
      "text/plain": [
       "<matplotlib.figure.Figure at 0x117efadd8>"
      ]
     },
     "metadata": {},
     "output_type": "display_data"
    },
    {
     "data": {
      "image/png": "[encoded data removed]",
      "text/plain": [
       "<matplotlib.figure.Figure at 0x118196438>"
      ]
     },
     "metadata": {},
     "output_type": "display_data"
    },
    {
     "data": {
      "image/png": "[encoded data removed]",
      "text/plain": [
       "<matplotlib.figure.Figure at 0x1152e8908>"
      ]
     },
     "metadata": {},
     "output_type": "display_data"
    }
   ],
   "source": [
    "Time4KF = [] # custon CVIterator\n",
    "m = 4  #4 weeks = size of shifting \n",
    "\n",
    "def get_valid_folf(df, start, finish):\n",
    "    test = df.loc[(df.date >= start)&(df.date <= finish)]\n",
    "    return  test.index\n",
    "\n",
    "for k in range(4):\n",
    "    #getting validation fold\n",
    "    start_v = test.date.min() - relativedelta(days=(9 + m * k) * 7)\n",
    "    finish_v = test.date.max() - relativedelta(days=(10 + m * k) * 7 + 1)\n",
    "    validation_indecis = get_valid_folf(train, start_v, finish_v)\n",
    "    \n",
    "    #getting training fold\n",
    "    start_tr = test.date.min() - relativedelta(days=(24 + m * k) * 7 + 1)\n",
    "    finish_tr = test.date.max() - relativedelta(days=(18 + m * k) * 7 - 1)\n",
    "    tmp_train_indices = get_valid_folf(train, start_tr, finish_tr)\n",
    "    \n",
    "    #adding train_validation to custom CVIterator \n",
    "    Time4KF.append((tmp_train_indices, validation_indecis ))\n",
    "\n",
    "    #vizualizing data which we use in validation\n",
    "    total_data = pd.concat([train.iloc[tmp_train_indices].date.value_counts() * 0 , \n",
    "                            train.iloc[validation_indecis].date.value_counts() * 0.8 , \n",
    "                            test.date.value_counts()])\n",
    "    \n",
    "    fig, ax = calmap.calendarplot(total_data, fig_kws={\"figsize\":(15,4)}, fillcolor='#d0d8d6', cmap='Dark2')"
   ]
  },
  {
   "cell_type": "code",
   "execution_count": 23,
   "metadata": {
    "scrolled": false
   },
   "outputs": [
    {
     "data": {
      "image/png": "[encoded data removed]",
      "text/plain": [
       "<matplotlib.figure.Figure at 0x11032f828>"
      ]
     },
     "metadata": {},
     "output_type": "display_data"
    },
    {
     "data": {
      "image/png": "[encoded data removed]",
      "text/plain": [
       "<matplotlib.figure.Figure at 0x119064f98>"
      ]
     },
     "metadata": {},
     "output_type": "display_data"
    },
    {
     "data": {
      "image/png": "[encoded data removed]",
      "text/plain": [
       "<matplotlib.figure.Figure at 0x11904eba8>"
      ]
     },
     "metadata": {},
     "output_type": "display_data"
    },
    {
     "data": {
      "image/png": "[encoded data removed]",
      "text/plain": [
       "<matplotlib.figure.Figure at 0x119013630>"
      ]
     },
     "metadata": {},
     "output_type": "display_data"
    }
   ],
   "source": [
    "Time4gapKF = [] # custon CVIterator\n",
    "m = 4  #4 weeks = size of shifting \n",
    "\n",
    "def get_valid_folf(df, start, finish):\n",
    "    test = df.loc[(df.date >= start)&(df.date <= finish)]\n",
    "    return  test.index\n",
    "\n",
    "for k in range(4):\n",
    "    #getting validation fold\n",
    "    start_v = test.date.min() - relativedelta(days=(9 + m * k) * 7)\n",
    "    finish_v = test.date.max() - relativedelta(days=(10 + m * k) * 7 + 1)\n",
    "    validation_indecis = get_valid_folf(train, start_v, finish_v)\n",
    "    \n",
    "    #getting training fold\n",
    "    start_tr = test.date.min() - relativedelta(days=(25 + m * k) * 7 + 1)\n",
    "    finish_tr = test.date.max() - relativedelta(days=(19 + m * k) * 7 + 1 )\n",
    "    tmp_train_indices = get_valid_folf(train, start_tr, finish_tr)\n",
    "    \n",
    "    #adding train_validation to custom CVIterator \n",
    "    Time4gapKF.append((tmp_train_indices, validation_indecis ))\n",
    "\n",
    "    #vizualizing data which we use in validation\n",
    "    total_data = pd.concat([train.iloc[tmp_train_indices].date.value_counts() * 0 , \n",
    "                            train.iloc[validation_indecis].date.value_counts() * 0.8 , \n",
    "                            test.date.value_counts()])\n",
    "    \n",
    "    fig, ax = calmap.calendarplot(total_data, fig_kws={\"figsize\":(15,4)}, fillcolor='#d0d8d6', cmap='Dark2')"
   ]
  },
  {
   "cell_type": "code",
   "execution_count": 31,
   "metadata": {},
   "outputs": [
    {
     "name": "stdout",
     "output_type": "stream",
     "text": [
      "kfold\n",
      "CV score :  41.19977854470543 \n",
      "Test score:  40.00701270204617\n",
      "time4kf\n",
      "CV score :  39.678541972493804 \n",
      "Test score:  40.00701270204617\n",
      "time3kf\n",
      "CV score :  37.87304218755918 \n",
      "Test score:  40.00701270204617\n",
      "time4gapkf\n",
      "CV score :  43.54303725526308 \n",
      "Test score:  40.00701270204617\n"
     ]
    }
   ],
   "source": [
    "def median_smape_validation(CVIterator, train, n_days=15):\n",
    "    scores = []\n",
    "    for train_indices, validation_indices in CVIterator:\n",
    "        tmp_train = train.iloc[train_indices].copy()\n",
    "        tmp_test = train.iloc[validation_indices].copy()\n",
    "        score = get_median_smape(tmp_train, tmp_test, n_days=n_days)\n",
    "        scores.append(score)\n",
    "    return scores, np.mean(scores)\n",
    "\n",
    "\n",
    "\n",
    "CVs = [KFold, Time4KF,  Time3KF, Time4gapKF]\n",
    "name = ['kfold', 'time4kf', 'time3kf', 'time4gapkf']\n",
    "\n",
    "for cv, name  in zip(CVs, name):\n",
    "    print(name)\n",
    "    print(\"CV score :  {} \\nTest score:  {}\"\n",
    "          .format(median_smape_validation(cv, train)[1],\n",
    "                  get_median_smape(train, test, n_days=15))) "
   ]
  },
  {
   "cell_type": "markdown",
   "metadata": {},
   "source": [
    "### =============================================================================================================="
   ]
  },
  {
   "cell_type": "markdown",
   "metadata": {},
   "source": [
    "##   Feature engineering"
   ]
  },
  {
   "cell_type": "code",
   "execution_count": 32,
   "metadata": {
    "collapsed": true
   },
   "outputs": [],
   "source": [
    "train = pd.read_csv(\"../data/wikipedia3/wikipedia_train3.csv\", parse_dates=['date'])\n",
    "test = pd.read_csv(\"../data/wikipedia3/wikipedia_test3.csv\", parse_dates=['date'])"
   ]
  },
  {
   "cell_type": "code",
   "execution_count": 33,
   "metadata": {
    "collapsed": true
   },
   "outputs": [],
   "source": [
    "import re \n",
    "\n",
    "def get_language(page):\n",
    "    res = re.search('[a-z][a-z].wikipedia.org',page)\n",
    "    if res:\n",
    "        return res.group(0)[0:2]\n",
    "    return 'na'\n",
    "\n",
    "def get_access(url):\n",
    "    return url.split('_')[-2]\n",
    "\n",
    "def get_features(data):\n",
    "    df = data.copy()\n",
    "    df['dayofweek'] = data.date.apply(lambda x: x.dayofweek )\n",
    "    df['dayofmonth'] = data.date.apply(lambda x: x.day )\n",
    "    df['weekend'] = data.date.apply(lambda x: x.dayofweek // 5 )\n",
    "    df['lang'] = data.Page.apply(lambda x: get_language(x))\n",
    "    df['access'] = data.Page.apply(lambda x: get_access(x))\n",
    "    df['week'] = df.date.apply(lambda x: x.week)\n",
    "    return df\n",
    "\n",
    "def encode(df):\n",
    "    enc = LabelEncoder()\n",
    "    df.Page = enc.fit_transform(df.Page)\n",
    "    df.lang = enc.fit_transform(df.lang)\n",
    "    df.access = enc.fit_transform(df.access)\n",
    "    return df "
   ]
  },
  {
   "cell_type": "code",
   "execution_count": 34,
   "metadata": {
    "collapsed": true
   },
   "outputs": [],
   "source": [
    "def prepare(train, test):\n",
    "    train_df = encode(get_features(train))\n",
    "    test_df = encode(get_features(test))\n",
    "    \n",
    "    X_train = train_df.drop(['date', 'Visits'], axis=1)\n",
    "    X_test = test_df.drop(['date', 'Visits'], axis=1)\n",
    "    \n",
    "    y_train = train_df.Visits\n",
    "    y_test = test_df.Visits\n",
    "    return X_train, X_test, y_train, y_test\n",
    "\n",
    "def smape_for_cross_val(estimator, X_test, y_true):\n",
    "    return smape_fast(y_true, estimator.predict(X_test).round())"
   ]
  },
  {
   "cell_type": "code",
   "execution_count": 35,
   "metadata": {
    "collapsed": true
   },
   "outputs": [],
   "source": [
    "xtrain, xtest, ytrain, ytest = prepare(train, test)"
   ]
  },
  {
   "cell_type": "code",
   "execution_count": 37,
   "metadata": {},
   "outputs": [
    {
     "name": "stdout",
     "output_type": "stream",
     "text": [
      "Test SMAPE: 45.1850001088571\n",
      "t :  46.591837288\n",
      "i :  42.3854456093\n",
      "m :  37.7219863488\n",
      "e :  47.0568798933\n"
     ]
    }
   ],
   "source": [
    "name = ['kfold', 'time4kf', 'time3kf', 'time4gapkf']\n",
    "\n",
    "estimator=DecisionTreeRegressor(random_state=42)\n",
    "smape_test = smape_fast(ytest, DecisionTreeRegressor(random_state=42).fit(xtrain, ytrain).predict(xtest).round())\n",
    "print(f\"Test SMAPE: {smape_test}\")\n",
    "for cv, name  in zip(CVs, name):\n",
    "    print(name, \":  \", end = '')\n",
    "    score = cross_val_score(estimator=estimator, cv=cv, X=xtrain,\n",
    "                         scoring=smape_for_cross_val, y=ytrain).mean()\n",
    "    print(score)"
   ]
  },
  {
   "cell_type": "markdown",
   "metadata": {},
   "source": [
    "## Grid Search"
   ]
  },
  {
   "cell_type": "code",
   "execution_count": 38,
   "metadata": {
    "scrolled": true
   },
   "outputs": [
    {
     "name": "stdout",
     "output_type": "stream",
     "text": [
      "Fitting 4 folds for each of 20 candidates, totalling 80 fits\n",
      "[CV] max_depth=None, max_features=3 ..................................\n",
      "[CV] max_depth=None, max_features=3 ..................................\n",
      "[CV] max_depth=None, max_features=3 ..................................\n",
      "[CV] max_depth=None, max_features=3 ..................................\n",
      "[CV] ................... max_depth=None, max_features=3, total=  18.8s\n",
      "[CV] max_depth=None, max_features=4 ..................................\n",
      "[CV] ................... max_depth=None, max_features=3, total=  18.4s\n",
      "[CV] max_depth=None, max_features=4 ..................................\n",
      "[CV] ................... max_depth=None, max_features=3, total=  18.9s\n",
      "[CV] max_depth=None, max_features=4 ..................................\n",
      "[CV] ................... max_depth=None, max_features=3, total=  19.0s\n",
      "[CV] max_depth=None, max_features=4 ..................................\n",
      "[CV] ................... max_depth=None, max_features=4, total=  19.3s\n",
      "[CV] ................... max_depth=None, max_features=4, total=  18.4s\n",
      "[CV] max_depth=None, max_features=5 ..................................\n",
      "[CV] max_depth=None, max_features=5 ..................................\n",
      "[CV] ................... max_depth=None, max_features=4, total=  19.3s\n",
      "[CV] max_depth=None, max_features=5 ..................................\n",
      "[CV] ................... max_depth=None, max_features=4, total=  18.7s\n",
      "[CV] max_depth=None, max_features=5 ..................................\n",
      "[CV] ................... max_depth=None, max_features=5, total=  19.9s\n",
      "[CV] max_depth=None, max_features=6 ..................................\n",
      "[CV] ................... max_depth=None, max_features=5, total=  20.1s\n",
      "[CV] ................... max_depth=None, max_features=5, total=  19.3s\n",
      "[CV] max_depth=None, max_features=6 ..................................\n",
      "[CV] max_depth=None, max_features=6 ..................................\n",
      "[CV] ................... max_depth=None, max_features=5, total=  19.5s\n",
      "[CV] max_depth=None, max_features=6 ..................................\n",
      "[CV] ................... max_depth=None, max_features=6, total=  21.5s\n",
      "[CV] max_depth=15, max_features=3 ....................................\n",
      "[CV] ................... max_depth=None, max_features=6, total=  22.5s\n",
      "[CV] ................... max_depth=None, max_features=6, total=  22.1s\n",
      "[CV] max_depth=15, max_features=3 ....................................\n",
      "[CV] max_depth=15, max_features=3 ....................................\n",
      "[CV] ................... max_depth=None, max_features=6, total=  22.7s\n",
      "[CV] max_depth=15, max_features=3 ....................................\n",
      "[CV] ..................... max_depth=15, max_features=3, total=  15.2s\n",
      "[CV] max_depth=15, max_features=4 ....................................\n",
      "[CV] ..................... max_depth=15, max_features=3, total=  16.2s\n",
      "[CV] max_depth=15, max_features=4 ....................................\n",
      "[CV] ..................... max_depth=15, max_features=3, total=  15.4s\n",
      "[CV] max_depth=15, max_features=4 ....................................\n",
      "[CV] ..................... max_depth=15, max_features=3, total=  15.8s\n",
      "[CV] max_depth=15, max_features=4 ....................................\n",
      "[CV] ..................... max_depth=15, max_features=4, total=  17.0s\n",
      "[CV] max_depth=15, max_features=5 ....................................\n",
      "[CV] ..................... max_depth=15, max_features=4, total=  16.7s\n",
      "[CV] max_depth=15, max_features=5 ....................................\n",
      "[CV] ..................... max_depth=15, max_features=4, total=  17.1s\n",
      "[CV] max_depth=15, max_features=5 ....................................\n",
      "[CV] ..................... max_depth=15, max_features=4, total=  17.1s\n",
      "[CV] max_depth=15, max_features=5 ....................................\n",
      "[CV] ..................... max_depth=15, max_features=5, total=  18.1s\n",
      "[CV] max_depth=15, max_features=6 ....................................\n",
      "[CV] ..................... max_depth=15, max_features=5, total=  19.9s\n",
      "[CV] max_depth=15, max_features=6 ....................................\n",
      "[CV] ..................... max_depth=15, max_features=5, total=  20.0s\n",
      "[CV] max_depth=15, max_features=6 ....................................\n",
      "[CV] ..................... max_depth=15, max_features=5, total=  19.3s\n",
      "[CV] max_depth=15, max_features=6 ....................................\n",
      "[CV] ..................... max_depth=15, max_features=6, total=  17.1s\n",
      "[CV] max_depth=100, max_features=3 ...................................\n",
      "[CV] ..................... max_depth=15, max_features=6, total=  18.3s\n",
      "[CV] max_depth=100, max_features=3 ...................................\n",
      "[CV] ..................... max_depth=15, max_features=6, total=  18.2s\n",
      "[CV] max_depth=100, max_features=3 ...................................\n",
      "[CV] ..................... max_depth=15, max_features=6, total=  17.7s\n",
      "[CV] max_depth=100, max_features=3 ...................................\n",
      "[CV] .................... max_depth=100, max_features=3, total=  19.0s\n",
      "[CV] max_depth=100, max_features=4 ...................................\n"
     ]
    },
    {
     "name": "stderr",
     "output_type": "stream",
     "text": [
      "[Parallel(n_jobs=4)]: Done  33 tasks      | elapsed:  6.9min\n"
     ]
    },
    {
     "name": "stdout",
     "output_type": "stream",
     "text": [
      "[CV] .................... max_depth=100, max_features=3, total=  19.8s\n",
      "[CV] max_depth=100, max_features=4 ...................................\n",
      "[CV] .................... max_depth=100, max_features=3, total=  19.6s\n",
      "[CV] max_depth=100, max_features=4 ...................................\n",
      "[CV] .................... max_depth=100, max_features=3, total=  19.6s\n",
      "[CV] max_depth=100, max_features=4 ...................................\n",
      "[CV] .................... max_depth=100, max_features=4, total=  21.7s\n",
      "[CV] max_depth=100, max_features=5 ...................................\n",
      "[CV] .................... max_depth=100, max_features=4, total=  22.5s\n",
      "[CV] max_depth=100, max_features=5 ...................................\n",
      "[CV] .................... max_depth=100, max_features=4, total=  22.4s\n",
      "[CV] max_depth=100, max_features=5 ...................................\n",
      "[CV] .................... max_depth=100, max_features=4, total=  22.1s\n",
      "[CV] max_depth=100, max_features=5 ...................................\n",
      "[CV] .................... max_depth=100, max_features=5, total=  22.6s\n",
      "[CV] max_depth=100, max_features=6 ...................................\n",
      "[CV] .................... max_depth=100, max_features=5, total=  22.4s\n",
      "[CV] max_depth=100, max_features=6 ...................................\n",
      "[CV] .................... max_depth=100, max_features=5, total=  23.1s\n",
      "[CV] .................... max_depth=100, max_features=5, total=  22.7s\n",
      "[CV] max_depth=100, max_features=6 ...................................\n",
      "[CV] max_depth=100, max_features=6 ...................................\n",
      "[CV] .................... max_depth=100, max_features=6, total=  22.5s\n",
      "[CV] max_depth=150, max_features=3 ...................................\n",
      "[CV] .................... max_depth=100, max_features=6, total=  23.7s\n",
      "[CV] max_depth=150, max_features=3 ...................................\n",
      "[CV] .................... max_depth=100, max_features=6, total=  23.7s\n",
      "[CV] max_depth=150, max_features=3 ...................................\n",
      "[CV] .................... max_depth=100, max_features=6, total=  23.2s\n",
      "[CV] max_depth=150, max_features=3 ...................................\n",
      "[CV] .................... max_depth=150, max_features=3, total=  19.2s\n",
      "[CV] max_depth=150, max_features=4 ...................................\n",
      "[CV] .................... max_depth=150, max_features=3, total=  19.2s\n",
      "[CV] .................... max_depth=150, max_features=3, total=  18.8s\n",
      "[CV] max_depth=150, max_features=4 ...................................\n",
      "[CV] max_depth=150, max_features=4 ...................................\n",
      "[CV] .................... max_depth=150, max_features=3, total=  19.1s\n",
      "[CV] max_depth=150, max_features=4 ...................................\n",
      "[CV] .................... max_depth=150, max_features=4, total=  19.1s\n",
      "[CV] max_depth=150, max_features=5 ...................................\n",
      "[CV] .................... max_depth=150, max_features=4, total=  20.1s\n",
      "[CV] max_depth=150, max_features=5 ...................................\n",
      "[CV] .................... max_depth=150, max_features=4, total=  19.5s\n",
      "[CV] max_depth=150, max_features=5 ...................................\n",
      "[CV] .................... max_depth=150, max_features=4, total=  19.8s\n",
      "[CV] max_depth=150, max_features=5 ...................................\n",
      "[CV] .................... max_depth=150, max_features=5, total=  22.5s\n",
      "[CV] max_depth=150, max_features=6 ...................................\n",
      "[CV] .................... max_depth=150, max_features=5, total=  23.3s\n",
      "[CV] max_depth=150, max_features=6 ...................................\n",
      "[CV] .................... max_depth=150, max_features=5, total=  23.2s\n",
      "[CV] max_depth=150, max_features=6 ...................................\n",
      "[CV] .................... max_depth=150, max_features=5, total=  22.7s\n",
      "[CV] max_depth=150, max_features=6 ...................................\n",
      "[CV] .................... max_depth=150, max_features=6, total=  21.7s\n",
      "[CV] max_depth=200, max_features=3 ...................................\n",
      "[CV] .................... max_depth=150, max_features=6, total=  22.5s\n",
      "[CV] max_depth=200, max_features=3 ...................................\n",
      "[CV] .................... max_depth=150, max_features=6, total=  22.8s\n",
      "[CV] max_depth=200, max_features=3 ...................................\n",
      "[CV] .................... max_depth=150, max_features=6, total=  22.5s\n",
      "[CV] max_depth=200, max_features=3 ...................................\n",
      "[CV] .................... max_depth=200, max_features=3, total=  17.5s\n",
      "[CV] max_depth=200, max_features=4 ...................................\n",
      "[CV] .................... max_depth=200, max_features=3, total=  17.1s\n",
      "[CV] max_depth=200, max_features=4 ...................................\n",
      "[CV] .................... max_depth=200, max_features=3, total=  17.6s\n",
      "[CV] .................... max_depth=200, max_features=3, total=  17.2s\n",
      "[CV] max_depth=200, max_features=4 ...................................\n",
      "[CV] max_depth=200, max_features=4 ...................................\n",
      "[CV] .................... max_depth=200, max_features=4, total=  18.7s\n",
      "[CV] max_depth=200, max_features=5 ...................................\n",
      "[CV] .................... max_depth=200, max_features=4, total=  19.2s\n",
      "[CV] max_depth=200, max_features=5 ...................................\n",
      "[CV] .................... max_depth=200, max_features=4, total=  19.4s\n",
      "[CV] max_depth=200, max_features=5 ...................................\n",
      "[CV] .................... max_depth=200, max_features=4, total=  19.1s\n",
      "[CV] max_depth=200, max_features=5 ...................................\n",
      "[CV] .................... max_depth=200, max_features=5, total=  19.1s\n",
      "[CV] max_depth=200, max_features=6 ...................................\n",
      "[CV] .................... max_depth=200, max_features=5, total=  18.6s\n",
      "[CV] max_depth=200, max_features=6 ...................................\n",
      "[CV] .................... max_depth=200, max_features=5, total=  19.2s\n",
      "[CV] .................... max_depth=200, max_features=5, total=  18.6s\n",
      "[CV] max_depth=200, max_features=6 ...................................\n",
      "[CV] max_depth=200, max_features=6 ...................................\n",
      "[CV] .................... max_depth=200, max_features=6, total=  19.1s\n",
      "[CV] .................... max_depth=200, max_features=6, total=  19.6s\n",
      "[CV] .................... max_depth=200, max_features=6, total=  19.8s\n",
      "[CV] .................... max_depth=200, max_features=6, total=  19.8s\n"
     ]
    },
    {
     "name": "stderr",
     "output_type": "stream",
     "text": [
      "[Parallel(n_jobs=4)]: Done  80 out of  80 | elapsed: 15.5min finished\n"
     ]
    },
    {
     "data": {
      "text/plain": [
       "GridSearchCV(cv=[(Int64Index([ 909755,  909756,  909757,  909758,  909759,  909760,  909761,\n",
       "             909762,  909763,  909764,\n",
       "            ...\n",
       "            2138505, 2138506, 2138507, 2138508, 2138509, 2138510, 2138511,\n",
       "            2138512, 2138513, 2138514],\n",
       "           dtype='int64', length=1228760), Int64In...1890395, 1890396,\n",
       "            1890397, 1890398, 1890399],\n",
       "           dtype='int64', length=638010))],\n",
       "       error_score=1,\n",
       "       estimator=DecisionTreeRegressor(criterion='mse', max_depth=None, max_features=None,\n",
       "           max_leaf_nodes=None, min_impurity_decrease=0.0,\n",
       "           min_impurity_split=None, min_samples_leaf=1,\n",
       "           min_samples_split=2, min_weight_fraction_leaf=0.0,\n",
       "           presort=False, random_state=42, splitter='best'),\n",
       "       fit_params=None, iid=True, n_jobs=4,\n",
       "       param_grid={'max_depth': [None, 15, 100, 150, 200], 'max_features': [3, 4, 5, 6]},\n",
       "       pre_dispatch='2*n_jobs', refit=True, return_train_score='warn',\n",
       "       scoring=make_scorer(smape_fast, greater_is_better=False), verbose=2)"
      ]
     },
     "execution_count": 38,
     "metadata": {},
     "output_type": "execute_result"
    }
   ],
   "source": [
    "from sklearn.model_selection import GridSearchCV\n",
    "from sklearn.metrics import make_scorer\n",
    "estimator = DecisionTreeRegressor(random_state=42)\n",
    "\n",
    "# create parameter grid\n",
    "# http://scikit-learn.org/stable/modules/generated/sklearn.model_selection.GridSearchCV.html\n",
    "params = {\n",
    "          'max_depth': [ None, 15, 100, 150, 200],\n",
    "         \n",
    "          'max_features': [3, 4, 5, 6]\n",
    "         \n",
    "    \n",
    "}\n",
    "\n",
    "scorer = make_scorer(smape_fast, greater_is_better=False)\n",
    "\n",
    "# create grid search object\n",
    "gs = GridSearchCV(\n",
    "    estimator=estimator,  # base model\n",
    "    param_grid=params,  # params grid to search within\n",
    "    cv=Time4gapKF,  # cross-validation strategy\n",
    "    error_score=1,  # warnings only\n",
    "    scoring=scorer,  # f1-score\n",
    "    # thread count, the higher count - the faster\n",
    "    n_jobs=4,\n",
    "    verbose=2,  # messages about performed actions\n",
    ")\n",
    "\n",
    "# perform grid search on TRAIN dataset ('is_train' filtering)\n",
    "gs.fit( X=xtrain, y=ytrain)\n",
    "# -"
   ]
  },
  {
   "cell_type": "code",
   "execution_count": 40,
   "metadata": {},
   "outputs": [
    {
     "name": "stdout",
     "output_type": "stream",
     "text": [
      "CV SMAPE: 46.83611267349694\n",
      "Test SMAPE: 45.10953477755911\n",
      "Diff: 1.7266\n"
     ]
    }
   ],
   "source": [
    "best_dt = gs.best_estimator_\n",
    "\n",
    "best_dt.fit(xtrain, ytrain)\n",
    "test_smape = smape_fast(ytest, best_dt.predict(xtest))\n",
    "cv_smape = cross_val_score(estimator=best_dt, cv=Time4gapKF, X=xtrain,\n",
    "                         scoring=smape_for_cross_val, y=ytrain).mean()\n",
    "\n",
    "print(f\"CV SMAPE: {cv_smape}\\nTest SMAPE: {test_smape}\\nDiff: {round(abs(cv_smape - test_smape),4)}\")"
   ]
  }
 ],
 "metadata": {
  "kernelspec": {
   "display_name": "Python 3",
   "language": "python",
   "name": "python3"
  },
  "language_info": {
   "codemirror_mode": {
    "name": "ipython",
    "version": 3
   },
   "file_extension": ".py",
   "mimetype": "text/x-python",
   "name": "python",
   "nbconvert_exporter": "python",
   "pygments_lexer": "ipython3",
   "version": "3.6.3"
  }
 },
 "nbformat": 4,
 "nbformat_minor": 2
}
